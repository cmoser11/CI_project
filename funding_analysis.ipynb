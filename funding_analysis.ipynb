{
 "cells": [
  {
   "cell_type": "code",
   "execution_count": null,
   "id": "b10ab576-c2c3-4135-8912-f65f41307ac1",
   "metadata": {
    "tags": []
   },
   "outputs": [],
   "source": [
    "# Load packages\n",
    "import pickle\n",
    "import pandas as pd\n",
    "import numpy as np\n",
    "import re, tldextract, time\n",
    "from sklearn import metrics\n",
    "from sklearn.linear_model import LogisticRegression\n",
    "from sklearn.linear_model import LinearRegression\n",
    "import statsmodels.api as sm\n",
    "from collections import Counter\n",
    "import matplotlib.pyplot as plt\n",
    "import math\n",
    "import seaborn as sns\n",
    "from sklearn.preprocessing import StandardScaler\n",
    "\n",
    "\n",
    "# ask about filling donation NaN with zero's?\n",
    "\n",
    "# fill donation NaN with zero based on max years the original data set covers\n",
    "# original data set goes up to 2022, so fill nan until then\n"
   ]
  },
  {
   "cell_type": "code",
   "execution_count": null,
   "id": "bd829083-edd7-4939-bfa3-3dda4a724deb",
   "metadata": {
    "tags": []
   },
   "outputs": [],
   "source": []
  },
  {
   "cell_type": "code",
   "execution_count": null,
   "id": "096bdd97-0cd8-4707-b4a9-5118835e54e1",
   "metadata": {
    "tags": []
   },
   "outputs": [],
   "source": [
    "df = pd.read_stata('FundingConfuciousFedshare.dta')\n",
    "\n",
    "enrollment = pd.read_csv('Enrollment Data_1-3-2024.csv')\n",
    "\n",
    "\n",
    "\n",
    "# data comes from here https://sites.ed.gov/foreigngifts/files/2023/11/Section-117_Public_Records_complete_through_2022-10-17.xlsx"
   ]
  },
  {
   "cell_type": "code",
   "execution_count": null,
   "id": "44ff3328-e018-4109-aa45-16585715f3fc",
   "metadata": {
    "tags": []
   },
   "outputs": [],
   "source": []
  },
  {
   "cell_type": "code",
   "execution_count": null,
   "id": "a654ee30-76ba-4628-8f92-43918a13a915",
   "metadata": {
    "tags": []
   },
   "outputs": [],
   "source": [
    "enrollment_list = list(enrollment.columns)[2:-1]\n",
    "\n"
   ]
  },
  {
   "cell_type": "code",
   "execution_count": null,
   "id": "de9cc66b-23aa-4fd1-93dd-84236dfefa3d",
   "metadata": {
    "tags": []
   },
   "outputs": [],
   "source": [
    "enrollment_long = pd.melt(enrollment, id_vars=['UnitID','Institution Name'], value_vars=enrollment_list, var_name='year', value_name='Enrollment')\n",
    "\n",
    "enrollment_long['year'] = enrollment_long['year'].str.replace(r'\\D', '', regex=True).astype(int)\n",
    "\n"
   ]
  },
  {
   "cell_type": "code",
   "execution_count": null,
   "id": "e2c23782-8d19-49cf-b184-4474caa8a4d5",
   "metadata": {
    "tags": []
   },
   "outputs": [],
   "source": []
  },
  {
   "cell_type": "code",
   "execution_count": null,
   "id": "9fee79a1-83cb-4381-afbc-44cac3ff026a",
   "metadata": {
    "tags": []
   },
   "outputs": [],
   "source": [
    "\n"
   ]
  },
  {
   "cell_type": "code",
   "execution_count": null,
   "id": "59105565-8f31-427b-bd39-6b8de630110e",
   "metadata": {
    "tags": []
   },
   "outputs": [],
   "source": [
    "df.dtypes\n",
    "\n",
    "\n",
    "df['contractstartdate'][1].year\n",
    "\n",
    "contract_year=[]\n",
    "\n",
    "for i in df['contractstartdate']:\n",
    "    contract_year.append(i.year)\n",
    "\n",
    "df['contract_year']= contract_year\n",
    "\n"
   ]
  },
  {
   "cell_type": "code",
   "execution_count": null,
   "id": "cb7e1832-80dd-4b46-8d81-10d9541ece1a",
   "metadata": {
    "tags": []
   },
   "outputs": [],
   "source": [
    "int(df['date_opened'][3].year)\n",
    "\n",
    "\n",
    "\n",
    "\n",
    "\n",
    "\n",
    "df['receipt_year'] = df['receiptdate'].dt.year\n",
    "pd.set_option('display.max_columns', 500)\n",
    "\n",
    "df['opeid'] = df['opeid'].replace(r'^\\s*$', np.nan, regex=True)\n",
    "\n",
    "df[df['opeid'].isna()]\n",
    "\n",
    "\n",
    "\n",
    "df[df['amount']==0]\n",
    "\n",
    "df.sort_values(['receipt_year'], ascending=[False])\n",
    "\n",
    "\n",
    "df[df['receipt_year']==2022]\n",
    "\n"
   ]
  },
  {
   "cell_type": "code",
   "execution_count": null,
   "id": "bd3f749c-8709-47f9-a9c4-aa777c2256aa",
   "metadata": {
    "tags": []
   },
   "outputs": [],
   "source": [
    "len(df[df['receipt_year'].notna()])- len(df[df['contract_year'].notna()])\n",
    "\n"
   ]
  },
  {
   "cell_type": "code",
   "execution_count": null,
   "id": "377c5797-1635-493f-8012-a657854937a6",
   "metadata": {
    "tags": []
   },
   "outputs": [],
   "source": [
    "schools = df[['schoolname', 'state']].drop_duplicates()\n",
    "\n",
    "\n",
    "\n",
    "years = [y for y in range(1995, 2022 + 1)]\n",
    "\n",
    "\n",
    "\n",
    "years_df = pd.DataFrame(years)\n",
    "\n",
    "\n",
    "school_years  = schools.merge(years_df, how='cross')\n",
    "\n",
    "school_years = school_years.rename(columns={0: \"year\"})\n",
    "\n",
    "\n",
    "\n",
    "df_school_year =  school_years.merge(df, how='left', left_on=['schoolname', 'state', 'year'], right_on=['schoolname', 'state', 'receipt_year'] )\n",
    "\n",
    "\n",
    "df_school_year['amount']= df_school_year['amount'].fillna(0)\n",
    "\n",
    "df_school_year['year'] = df_school_year['year'].astype(float)\n",
    "\n",
    "\n",
    "\n",
    "#df_school_year_transactions = df_school_year[df_school_year['receipt_year'].notna()]\n",
    "\n",
    "df_school_year['china'] = df_school_year['china'].fillna(0)\n",
    "\n",
    "df_school_year['china_donation_bin_sum'] = df_school_year.groupby(['schoolname', 'state', 'year'])['china'].transform('sum')\n",
    "# if greater than zero mean it has at least one china donatoin\n",
    "\n",
    "\n",
    "df_school_year['china_donation'] = np.where(df_school_year['china_donation_bin_sum']>0, 1, 0)\n",
    "\n",
    "\n",
    "df_school_year['total_foreign_donation'] = df_school_year.groupby(['schoolname', 'state', 'year'])['amount'].transform('sum')\n",
    "\n",
    "df_school_year['mean_foreign_donation'] = df_school_year.groupby(['schoolname', 'state', 'year'])['amount'].transform('mean')"
   ]
  },
  {
   "cell_type": "code",
   "execution_count": null,
   "id": "ee7c16c5-3a28-4acc-8ddf-5b7ce8c8a7ab",
   "metadata": {
    "tags": []
   },
   "outputs": [],
   "source": [
    "#df_school_year_transactions= df_school_year_transactions[['schoolname', 'state', 'year', 'china', 'total_foreign_donation','mean_foreign_donation' ,'china_donation']]\n",
    "\n"
   ]
  },
  {
   "cell_type": "code",
   "execution_count": null,
   "id": "a987ed8d-5c0b-4e1e-9f6e-4e21aebfd132",
   "metadata": {
    "tags": []
   },
   "outputs": [],
   "source": [
    "df_school_year[df_school_year['schoolname']=='Gill-Tech Academy of Hair Design']\n",
    "\n",
    "\n",
    "df_school_year[df_school_year['schoolname']=='Lincoln University']\n"
   ]
  },
  {
   "cell_type": "code",
   "execution_count": null,
   "id": "17bb1299-6873-4df7-b7d1-99417dc41af8",
   "metadata": {
    "tags": []
   },
   "outputs": [],
   "source": [
    "\n"
   ]
  },
  {
   "cell_type": "code",
   "execution_count": null,
   "id": "e5c03a39-102c-47a8-9576-678dfefbb737",
   "metadata": {},
   "outputs": [],
   "source": []
  },
  {
   "cell_type": "code",
   "execution_count": null,
   "id": "ffe6172d-6977-431c-b71a-8f85ba1da24c",
   "metadata": {
    "tags": []
   },
   "outputs": [],
   "source": [
    "df_receipt = df_school_year.dropna(subset=['receipt_year'])\n",
    "df_no_receipt = df_school_year[df_school_year['receipt_year'].isnull()]\n",
    "\n",
    "\n",
    "# fix this variable by using receiptdate year\n",
    "df_receipt['year_match'] = np.where(df_receipt[\"year\"] == df_receipt[\"receipt_year\"], True, False)\n",
    "\n",
    "df_receipt_clean = df_receipt[df_receipt['year_match']==True] \n",
    "\n",
    "\n",
    "df_receipt_clean = df_receipt_clean.drop('year_match', axis=1)\n",
    "\n",
    "\n",
    "df_donations = pd.concat([df_receipt_clean, df_no_receipt])\n",
    "\n",
    "\n",
    "df_donations[df_donations['schoolname']=='Arizona State University']['year'].unique()\n"
   ]
  },
  {
   "cell_type": "code",
   "execution_count": null,
   "id": "c695c4b8-14e5-4add-aaac-cbd52698366a",
   "metadata": {
    "tags": []
   },
   "outputs": [],
   "source": [
    "\n",
    "\n",
    "CI_open_year = []\n",
    "\n",
    "CI_close_year = []\n",
    "\n",
    "for i in df_donations['date_opened']:\n",
    "    if pd.notna(i):\n",
    "        CI_open_year.append(int(i.year))\n",
    "    else:\n",
    "        CI_open_year.append(i)\n",
    "    \n",
    "for i in df_donations['date_closed']:\n",
    "    if pd.notna(i):\n",
    "        CI_close_year.append(int(i.year))\n",
    "    else:\n",
    "        CI_close_year.append(i)\n",
    "\n",
    "        \n",
    "        \n",
    "df_donations['CI_open_year'] = CI_open_year\n",
    "\n",
    "df_donations['CI_close_year'] = CI_close_year\n",
    "\n",
    "\n",
    "CI_open_years = []\n",
    "\n",
    "for i, j in zip(df_donations['CI_open_year'], df_donations['CI_close_year']):\n",
    "    # change code so it does if else for three variations: NAN for both lists, NAN for only close, and no NAN\n",
    "    if pd.notna(i) &  pd.notna(j):\n",
    "        CI_open_years.append( [y for y in range(i, j + 1)])\n",
    "        # modify this code to get years for Confucius Institutes still open\n",
    "    elif pd.notna(i) & pd.isna(j):\n",
    "        CI_open_years.append( [y for y in range(i, 2023 + 1)])\n",
    "    \n",
    "    else:\n",
    "        CI_open_years.append(j)\n",
    "\n",
    "\n",
    "\n",
    "\n",
    "\n",
    "#CI variable is a bianry for if they EVER had Confucious institute\n",
    "# CI_open is a binary variable for if they have a confucious institute open this year\n",
    "\n",
    "\n",
    "# change CI_open_years to include years for Confucius institutes that never closed\n",
    "\n",
    "\n",
    "\n"
   ]
  },
  {
   "cell_type": "code",
   "execution_count": null,
   "id": "3960ac52-b609-4d77-b75a-e7b0e620497e",
   "metadata": {
    "tags": []
   },
   "outputs": [],
   "source": [
    "#group and aggregate donations by year and university\n",
    "# make each row a university year combination\n",
    "\n",
    "df_donations['CI_open_years'] = CI_open_years\n",
    "\n",
    "df_merged = df_donations.explode('CI_open_years')\n",
    "\n",
    "\n",
    "\n",
    "\n",
    "df_merged[df_merged['schoolname']=='Arizona State University']['year'].unique()\n",
    "\n",
    "\n",
    "CI_open = []\n",
    "\n",
    "for i, j, k in zip(df_merged['CI_open_years'], df_merged['receipt_year'], df_merged['year']):\n",
    "    # change code so it does if else for three variations: NAN for both lists, NAN for only close, and no NAN\n",
    "    if (i == j) & (i == k) & pd.notna(i):\n",
    "        CI_open.append(1)\n",
    "    elif (i != j) & (i == k):\n",
    "        CI_open.append(1)\n",
    "    elif (i != j) & (i != k) & (j == k):\n",
    "        CI_open.append(0)\n",
    "    else:\n",
    "        CI_open.append(i)\n",
    "\n",
    "\n",
    "df_merged['CI_open'] = CI_open\n",
    "\n",
    "df_merged[(df_merged['schoolname']=='Arizona State University')&(df_merged['year']==2009)]\n",
    "\n",
    "\n",
    "\n",
    "\n",
    "\n"
   ]
  },
  {
   "cell_type": "code",
   "execution_count": null,
   "id": "f4ea14b0-1f6c-4639-8021-b952a86706df",
   "metadata": {
    "tags": []
   },
   "outputs": [],
   "source": [
    "df_merged[(df_merged['schoolname']=='Stanford University')]\n"
   ]
  },
  {
   "cell_type": "code",
   "execution_count": null,
   "id": "14917489-9a3a-4074-aa0d-8d49fc22f204",
   "metadata": {
    "tags": []
   },
   "outputs": [],
   "source": [
    "\n",
    "df_clean = df_merged.sort_values('CI_open', ascending=False).drop_duplicates(['schoolname', 'state', 'year']).sort_index()\n",
    "\n",
    "\n",
    "df_clean = df_clean.drop(columns = ['china'])\n",
    "\n",
    "#df_clean = df_clean.merge(df_school_year_transactions, how='left', left_on=['schoolname', 'state', 'year'], right_on=['schoolname', 'state', 'year'] )\n",
    "\n",
    "\n",
    "\n",
    "\n",
    "\n",
    "df_clean[(df_clean['schoolname']=='Arizona State University')]\n"
   ]
  },
  {
   "cell_type": "code",
   "execution_count": null,
   "id": "5763a233-cf1a-445c-8142-fe558cc95c35",
   "metadata": {
    "tags": []
   },
   "outputs": [],
   "source": [
    "\n",
    "#df_school_year = df_school_year.drop(columns=['year'])\n",
    "\n",
    "#df_school_year_clean =  school_years.merge(df_school_year, how='left', left_on=['schoolname', 'year'], right_on=['schoolname', 'CI_open_years'] )\n",
    "\n"
   ]
  },
  {
   "cell_type": "code",
   "execution_count": null,
   "id": "236ef639-6f62-46e2-a112-2e9c3cb18526",
   "metadata": {
    "tags": []
   },
   "outputs": [],
   "source": []
  },
  {
   "cell_type": "code",
   "execution_count": null,
   "id": "d5a9d287-b568-4b82-b12b-df87e40f75cf",
   "metadata": {
    "tags": []
   },
   "outputs": [],
   "source": [
    "#df_school_year_clean['CI_open'] =  (df_school_year_clean[\"CI_open_years\"].notna()) * 1\n",
    "\n"
   ]
  },
  {
   "cell_type": "code",
   "execution_count": null,
   "id": "e84007e9-f0ac-4b9f-be38-9c73a23f42a4",
   "metadata": {},
   "outputs": [],
   "source": [
    "\n",
    "# change CI_open_years to NAN for columns where receipt year does not have match with CI_open_years"
   ]
  },
  {
   "cell_type": "code",
   "execution_count": null,
   "id": "278ff72b-afe6-42b7-accf-9776724426a8",
   "metadata": {
    "tags": []
   },
   "outputs": [],
   "source": [
    "\n",
    "\n",
    "\n",
    "# drop rows where academic year does not match CI_open_years\n",
    "\n",
    "\n",
    "# to do this, drop all nan for CI_open_years in a seperate data frame for confucius institute universities\n",
    "# also make seperate data frame with only NaN CI_open_years values\n",
    "# check matches for academic year and CI_open_years in new data frame\n",
    "# append two data frames back together\n",
    "\n",
    "\n",
    "#df_CI = df_merged.dropna(subset=['CI_open_years'])\n",
    "#df_no_CI = df_merged[df_merged['CI_open_years'].isnull()]\n",
    "\n",
    "#df_CI['CI_open_years'] = df_CI['CI_open_years'].astype(float)\n",
    "\n",
    "# fix this variable by using receiptdate year\n",
    "#df_CI['year_match'] = np.where(df_CI[\"year\"] == df_CI[\"CI_open_years\"], True, False)\n",
    "\n",
    "\n",
    "\n",
    "\n",
    "#df_CI_clean = df_CI[df_CI['year_match']==True] \n",
    "\n",
    "\n",
    "#df_CI_clean = df_CI_clean.drop('year_match', axis=1)\n",
    "\n",
    "#df_clean = pd.concat([df_CI_clean, df_no_CI])\n",
    "\n",
    "#df_clean\n",
    "\n",
    "# fix this with outer merge\n",
    "\n",
    "#df_clean[(df_clean['CI_open']==1) ]\n",
    "\n",
    "\n",
    "#df_CI_clean[df_CI_clean['schoolname']=='Arizona State University']['year'].unique()\n",
    "\n",
    "\n",
    "#df_clean = df_donations.merge(df_confucius, how='cross')\n",
    "\n",
    "\n"
   ]
  },
  {
   "cell_type": "code",
   "execution_count": null,
   "id": "ffb2c98d-7982-462c-bdf2-358ad233dca5",
   "metadata": {
    "tags": []
   },
   "outputs": [],
   "source": [
    "\n",
    "\n",
    "\n",
    "\n",
    "\n",
    "\n",
    "\n",
    "\n",
    "\n",
    "\n",
    "df_clean[df_clean['year']==1995]\n",
    "\n",
    "df_clean[df_clean['schoolname']=='Arizona State University']\n",
    "\n",
    "\n",
    "\n",
    "\n"
   ]
  },
  {
   "cell_type": "code",
   "execution_count": null,
   "id": "0b46f05b-def2-4fc8-b92b-e33c54f5ca39",
   "metadata": {
    "tags": []
   },
   "outputs": [],
   "source": [
    "\n",
    "\n",
    "\n",
    "# make variable for total china donation\n",
    "\n",
    "\n",
    "df_china_donations = df_school_year[df_school_year['china']==1]\n",
    "\n",
    "df_china_donations['total_china_donation'] = df_china_donations.groupby(['schoolname', 'state', 'year'])['amount'].transform('sum')\n",
    "\n",
    "\n",
    "\n",
    "df_china_donations['mean_china_donation'] = df_china_donations.groupby(['schoolname', 'state', 'year', 'china'])['amount'].transform('mean')\n",
    "\n",
    "# combine china donation data frame back to clean data frame to get china stats\n",
    "\n",
    "\n",
    "df_china_donations_filtered = df_china_donations[['schoolname', 'state', 'year', 'total_china_donation','mean_china_donation']]\n",
    "\n",
    "\n",
    "master_df = df_clean.drop_duplicates(subset=['schoolname', 'state', 'year'], keep=\"first\")\n",
    "\n",
    "\n",
    "\n",
    "master_df = master_df.merge(df_china_donations_filtered, how = 'left', on = ['schoolname', 'state', 'year'])\n",
    "\n",
    "master_df['mean_fed_share'] = master_df.groupby(['schoolname', 'state', 'receipt_year'])['federal_share'].transform('mean')\n",
    "\n",
    "master_df[(master_df['CI_open_years'].isna())&(master_df['receipt_year'].notna())]\n",
    "\n",
    "\n",
    "\n",
    "\n",
    "df_china_donations[df_china_donations['schoolname']==\"Arizona State University\"]\n",
    "\n",
    "\n",
    "\n"
   ]
  },
  {
   "cell_type": "code",
   "execution_count": null,
   "id": "d21c8b2c-43e5-413f-b4a0-5f180f7fcdd9",
   "metadata": {
    "tags": []
   },
   "outputs": [],
   "source": [
    "constants = df\n",
    "\n",
    "constants = constants[['schoolname', 'state', 'public', 'federal10', 'tot_rev_wo_auxother_sum', 'r', 'federal_share',  'govt_reliance_a']]\n",
    "\n",
    "constants = constants.drop_duplicates()\n",
    "\n",
    "\n",
    "constants[constants['schoolname']=='Lincoln University']\n",
    "\n",
    "\n",
    "\n"
   ]
  },
  {
   "cell_type": "code",
   "execution_count": null,
   "id": "5624f1fe-7ab6-47ac-817a-95563fc5f9af",
   "metadata": {
    "tags": []
   },
   "outputs": [],
   "source": [
    "df[(df['schoolname']== 'Columbia College')&(df['state']== 'MO')]\n",
    "\n"
   ]
  },
  {
   "cell_type": "code",
   "execution_count": null,
   "id": "091dc1e3-d65b-4ef5-9a81-676460a66036",
   "metadata": {
    "tags": []
   },
   "outputs": [],
   "source": [
    "master_df = master_df[['schoolname', 'state',  'year', 'CI', 'CI_open', 'china_donation', 'total_foreign_donation', 'mean_foreign_donation','total_china_donation', 'mean_china_donation']]\n",
    "\n",
    "\n",
    "\n",
    "\n",
    "master_df =  master_df.merge(constants, how='left', left_on=['schoolname', 'state'], right_on=['schoolname', 'state'] )\n",
    "\n",
    "\n"
   ]
  },
  {
   "cell_type": "code",
   "execution_count": null,
   "id": "852cb133-e2df-4811-89e2-578f4adf846e",
   "metadata": {
    "tags": []
   },
   "outputs": [],
   "source": [
    "master_df[master_df['schoolname']=='Alabama A&M University']\n",
    "\n",
    "\n",
    "master_df[master_df['schoolname']==\"Saint John's University\"]\n",
    "\n",
    "\n",
    "\n",
    "zero_china_donation = master_df[master_df['total_foreign_donation'].notna()]\n",
    "\n",
    "zero_china_donation['total_china_donation'] = zero_china_donation['total_china_donation'].fillna(0)\n",
    "\n",
    "zero_china_donation['mean_china_donation'] = zero_china_donation['mean_china_donation'].fillna(0)\n",
    "\n",
    "zero_china_donation=zero_china_donation[['schoolname', 'state', 'year', 'total_china_donation','mean_china_donation']]\n",
    "\n",
    "master_df = master_df.drop(columns = ['total_china_donation','mean_china_donation'])\n",
    "\n",
    "\n",
    "master_df = master_df.merge(zero_china_donation, how='left', left_on=['schoolname', 'state', 'year'], right_on=['schoolname', 'state', 'year'] )\n",
    "\n"
   ]
  },
  {
   "cell_type": "code",
   "execution_count": null,
   "id": "3600c1e6-31b6-4fcc-bd80-1c9a5fe667d9",
   "metadata": {
    "tags": []
   },
   "outputs": [],
   "source": [
    "master_df[master_df['schoolname']=='Arizona State University']\n",
    "\n",
    "\n"
   ]
  },
  {
   "cell_type": "code",
   "execution_count": null,
   "id": "c0803478-e921-4ddc-b41d-3cad783003cb",
   "metadata": {
    "tags": []
   },
   "outputs": [],
   "source": [
    "\n",
    "\n",
    "master_df = master_df.sort_values(by=['schoolname', 'state', 'year'])\n",
    "\n",
    "\n",
    "\n",
    "\n",
    "master_df['schoolname'] = master_df['schoolname'].astype(str)\n",
    "\n",
    "\n",
    "\n",
    "master_df['state'] = master_df['state'].astype(str)\n",
    "\n",
    "master_df['CI_open'] = master_df['CI_open'].astype(str)\n",
    "\n",
    "\n",
    "master_df = master_df.drop_duplicates(subset=['schoolname', 'state', 'year'], keep=\"first\")\n",
    "\n",
    "\n",
    "\n",
    "master_df\n"
   ]
  },
  {
   "cell_type": "code",
   "execution_count": null,
   "id": "d03bf552-0734-49ac-bd6c-cd0c02dcafb7",
   "metadata": {
    "tags": []
   },
   "outputs": [],
   "source": [
    "master_df[master_df['schoolname']==\"Arizona State University\"]\n",
    "\n",
    "transition= df_donations\n",
    "transition['CI_open_years']= CI_open_years\n",
    "\n",
    "transition = transition[transition['CI_open_years'].notna()]\n",
    "\n",
    "transition = transition[['schoolname', 'state', 'CI_open_years']]\n",
    "\n",
    "\n",
    "transition = transition.explode('CI_open_years')\n",
    "\n",
    "\n",
    "transition['CI_open']= 1\n",
    "\n",
    "\n",
    "\n",
    "master_df_clean = master_df.drop(columns=['CI_open'])\n",
    "\n",
    "\n",
    "master_df_clean = master_df_clean.merge(transition, how = 'left',  left_on=['schoolname', 'state', 'year'], right_on=['schoolname', 'state', 'CI_open_years'])\n",
    "\n",
    "\n",
    "master_df_clean = master_df_clean.drop_duplicates()\n",
    "\n",
    "\n",
    "master_df_clean['CI_open'] = master_df_clean['CI_open'].fillna(0)\n",
    "\n",
    "\n",
    "\n",
    " \n",
    "master_df_clean = master_df_clean.rename(columns={'CI': \"CI_ever\"})\n",
    "\n",
    "\n",
    "master_df_clean['CI_open'] = master_df_clean['CI_open'].astype(int)\n",
    "\n",
    "\n",
    "master_df_clean['year'] = master_df_clean['year'].astype(int)\n",
    "\n",
    "\n",
    "\n",
    "master_df_clean['CI_ever'] = master_df_clean.groupby(['schoolname', 'state'])['CI_ever'].fillna(method='bfill', axis=0).fillna(method='ffill', axis=0)\n",
    "\n",
    "\n",
    "total_foreign_donation = []\n",
    "\n",
    "for i, j in zip(master_df_clean['total_foreign_donation'], master_df_clean['mean_foreign_donation']):\n",
    "    if pd.isna(j):\n",
    "        total_foreign_donation.append(np.nan)\n",
    "    else:\n",
    "        total_foreign_donation.append(i)\n",
    "\n",
    "\n",
    "master_df_clean = master_df_clean.drop(columns=['total_foreign_donation'])\n",
    "master_df_clean['total_foreign_donation'] = total_foreign_donation\n",
    "\n",
    "master_df_clean = master_df_clean[['schoolname', 'state',  'public', 'year', 'CI_ever', 'CI_open', 'r', 'china_donation', 'federal10', 'tot_rev_wo_auxother_sum', 'federal_share', 'govt_reliance_a',  'total_foreign_donation', 'mean_foreign_donation','total_china_donation', 'mean_china_donation']]\n",
    "\n",
    "\n",
    "\n",
    "\n",
    "\n",
    "\n",
    "\n",
    "\n"
   ]
  },
  {
   "cell_type": "code",
   "execution_count": null,
   "id": "4257fa6d-2170-4d65-a7fa-fbbecaa49638",
   "metadata": {
    "tags": []
   },
   "outputs": [],
   "source": []
  },
  {
   "cell_type": "code",
   "execution_count": null,
   "id": "4ef67662-ecda-4c78-b652-41a0ba12754a",
   "metadata": {
    "tags": []
   },
   "outputs": [],
   "source": [
    "\n",
    "# write up data description \n",
    "# make sure there are no sampling problems. Count number of private \n",
    "# look at characteristics for universities that take tons of China money that didn't set up a CI"
   ]
  },
  {
   "cell_type": "code",
   "execution_count": null,
   "id": "99c9e81f-db35-46b8-8b51-5e5ea0709c3c",
   "metadata": {
    "tags": []
   },
   "outputs": [],
   "source": [
    "CI_survival_years = master_df_clean[master_df_clean['CI_open']==1]\n",
    "\n",
    "\n",
    "\n",
    "\n",
    "CI_survival_years['CI_survival_years'] = CI_survival_years.groupby(['schoolname', 'state'])['CI_open'].cumsum()\n",
    "CI_survival_years = CI_survival_years[['schoolname', 'state', 'year', 'CI_survival_years']]\n",
    "\n",
    "\n",
    "master_df_clean = master_df_clean.merge(CI_survival_years, how = 'left',  left_on=['schoolname', 'state', 'year'], right_on=['schoolname', 'state', 'year'])\n",
    "\n",
    "\n",
    "# CI institute survival by years\n",
    "\n",
    "No_CI_years = master_df_clean[master_df_clean['CI_open']==0]\n",
    "\n",
    "\n",
    "No_CI_years['No_CI_True'] = 1\n",
    "\n",
    "No_CI_years['No_CI_years'] = No_CI_years.groupby(['schoolname', 'state'])['No_CI_True'].cumsum()\n",
    "No_CI_years = No_CI_years[['schoolname', 'state', 'year', 'No_CI_years']]\n",
    "\n",
    "\n",
    "master_df_clean = master_df_clean.merge(No_CI_years, how = 'left',  left_on=['schoolname', 'state', 'year'], right_on=['schoolname', 'state', 'year'])\n",
    "\n",
    "\n"
   ]
  },
  {
   "cell_type": "code",
   "execution_count": null,
   "id": "b39a6660-ea4e-4451-a042-04a6ab4ddbed",
   "metadata": {
    "tags": []
   },
   "outputs": [],
   "source": [
    "master_df_clean[master_df_clean['schoolname']=='Arizona State University']"
   ]
  },
  {
   "cell_type": "code",
   "execution_count": null,
   "id": "beca65b1-4700-484a-8547-5630945b4579",
   "metadata": {
    "tags": []
   },
   "outputs": [],
   "source": [
    "\n",
    "# create variable for survival analysis"
   ]
  },
  {
   "cell_type": "code",
   "execution_count": null,
   "id": "00e5b2eb-f70d-4fbc-8fc5-16db10214232",
   "metadata": {
    "tags": []
   },
   "outputs": [],
   "source": [
    "\n",
    "master_df_clean[master_df_clean['schoolname']=='Alabama A&M University']\n",
    "\n",
    "\n",
    "master_df_clean[master_df_clean['schoolname']=='Alabama A&M University']\n",
    "\n",
    "\n",
    "\n",
    "constants\n",
    "\n",
    "master_df_clean[master_df_clean['schoolname']==\"Saint John's University\"]\n",
    "\n",
    "constants[constants['schoolname']==\"Saint John's University\"]\n",
    "\n"
   ]
  },
  {
   "cell_type": "code",
   "execution_count": null,
   "id": "306cb918-4bc0-4e6e-867c-d471a95215ac",
   "metadata": {
    "tags": []
   },
   "outputs": [],
   "source": [
    "master_df_clean[master_df_clean['schoolname']=='Arizona State University']\n",
    "\n",
    "duplicate_rows = master_df_clean[master_df_clean.duplicated()]\n",
    "\n",
    "\n",
    "master_df_clean[master_df_clean['total_foreign_donation']==0]\n",
    "\n",
    "df[df['schoolname']=='Gill-Tech Academy of Hair Design']\n",
    "\n",
    "\n",
    "\n",
    "\n",
    "\n",
    "\n",
    "len(master_df_clean[master_df_clean['schoolname']=='Arizona State University'])\n",
    "\n",
    "\n",
    "\n",
    "\n",
    "master_df_clean[master_df_clean['schoolname']==\"Saint John's University\"]\n",
    "\n",
    "\n",
    "master_df_clean[master_df_clean['schoolname']=='Columbia College']\n",
    "\n"
   ]
  },
  {
   "cell_type": "code",
   "execution_count": null,
   "id": "2ee8b89d-c9d5-48aa-8583-07bc25b4f86b",
   "metadata": {
    "tags": []
   },
   "outputs": [],
   "source": [
    "from collections import Counter\n",
    "\n",
    "\n",
    "\n",
    "master_df_clean[master_df_clean['schoolname'].isin(['Columbia College','Lincoln University', 'Bryant & Stratton Colleg','MBTI Business Training Institute', \"Saint John's University\"])]\n",
    "\n",
    "master_df_clean[master_df_clean['schoolname']==\"Saint John's University\"]\n",
    "df[df['schoolname']==\"Saint John's University\"]\n",
    "\n",
    "\n",
    "master_df_clean['university_state'] = master_df_clean['schoolname']+ '_'+master_df_clean['state']\n",
    "\n",
    "\n",
    "master_df_clean = master_df_clean[['university_state', 'schoolname', 'state',  'public', 'year', 'CI_ever', 'CI_open', 'No_CI_years', 'CI_survival_years', 'r', 'china_donation', 'federal10', 'tot_rev_wo_auxother_sum', 'federal_share', 'govt_reliance_a',  'total_foreign_donation', 'mean_foreign_donation','total_china_donation', 'mean_china_donation']]\n",
    "\n",
    "\n",
    "\n",
    "\n"
   ]
  },
  {
   "cell_type": "code",
   "execution_count": null,
   "id": "07a828d8-f5fb-4537-a917-cd4a7f195c76",
   "metadata": {
    "tags": []
   },
   "outputs": [],
   "source": [
    "\n"
   ]
  },
  {
   "cell_type": "code",
   "execution_count": null,
   "id": "8dba0248-a219-4206-b398-eb31c9c87020",
   "metadata": {
    "tags": []
   },
   "outputs": [],
   "source": []
  },
  {
   "cell_type": "code",
   "execution_count": null,
   "id": "72855ffc-d653-40c8-b1b9-cfa17986dfc8",
   "metadata": {
    "tags": []
   },
   "outputs": [],
   "source": [
    "\n",
    "len(master_df_clean['schoolname'].unique())"
   ]
  },
  {
   "cell_type": "code",
   "execution_count": null,
   "id": "cbb0b0dc-dba3-4577-8b71-c02e47d147f4",
   "metadata": {
    "tags": []
   },
   "outputs": [],
   "source": [
    "master_df_clean[master_df_clean['schoolname']=='Arizona State University']\n",
    "\n",
    "master_df_clean[master_df_clean['schoolname']=='Gill-Tech Academy of Hair Design']\n",
    "\n",
    "# change code so that it automates output of graphs\n",
    "master_df_clean[master_df_clean['schoolname']=='Georgetown University']\n",
    "\n",
    "master_df_clean[master_df_clean['schoolname']=='Arizona State University']\n",
    "\n"
   ]
  },
  {
   "cell_type": "code",
   "execution_count": null,
   "id": "a3e9d481-8698-4ec6-b139-3aa0456f1559",
   "metadata": {
    "tags": []
   },
   "outputs": [],
   "source": [
    "master_df_clean[master_df_clean['schoolname']=='Columbia College']['university_state'].unique()\n",
    "master_df_clean[master_df_clean['schoolname']=='Lincoln University']['university_state'].unique()\n",
    "master_df_clean[master_df_clean['schoolname']=='Bryant & Stratton College']['university_state'].unique()\n",
    "master_df_clean[master_df_clean['schoolname']=='MBTI Business Training Institute']['university_state'].unique()\n",
    "master_df_clean[master_df_clean['schoolname']=='Marian University']['university_state'].unique()\n",
    "\n",
    "\n",
    "Counter(list(master_df_clean['schoolname']))\n",
    "\n",
    "\n",
    "master_df_clean[master_df_clean['schoolname']==\"Saint John's University\"]['university_state'].unique()\n",
    "\n"
   ]
  },
  {
   "cell_type": "code",
   "execution_count": null,
   "id": "5a43e102-dc42-4e83-bbfe-b45ed6041703",
   "metadata": {
    "tags": []
   },
   "outputs": [],
   "source": [
    "empty_university_with_error = df[df['CI'].isna()][['schoolname', 'state']]\n",
    "\n",
    "empty_university_with_error['university_state'] = empty_university_with_error['schoolname']+'_'+empty_university_with_error['state']\n",
    "\n",
    "empty_university_with_error = list(empty_university_with_error['university_state'])\n",
    "\n"
   ]
  },
  {
   "cell_type": "code",
   "execution_count": null,
   "id": "40a7505e-bf2e-45a1-b310-15447a63f7dd",
   "metadata": {
    "tags": []
   },
   "outputs": [],
   "source": [
    "master_df_clean[master_df_clean['schoolname']=='Columbia College']['university_state'].unique()\n",
    "\n",
    "public = ['Columbia College_CA', 'Lincoln University_MO', 'Lincoln University_PA']\n",
    "\n",
    "private = ['Columbia College_MO', 'Columbia College_SC', 'Columbia College_VA', 'Lincoln University_CA', 'Bryant & Stratton College_NY', 'Bryant & Stratton College_OH', 'MBTI Business Training Institute_PR', 'MBTI Business Training Institute_WI', 'Marian University_IN', 'Marian University_WI', \"Saint John's University_MN\",\"Saint John's University_NY\" ]\n",
    "\n",
    "\n",
    "master_df_clean.loc[(master_df_clean['university_state'].isin(public)), 'public'] = 1\n",
    "\n",
    "master_df_clean.loc[(master_df_clean['university_state'].isin(private)), 'public'] = 0\n",
    "\n",
    "\n",
    "master_df_clean[master_df_clean['university_state']== 'Lincoln University_CA']\n",
    "\n",
    "\n",
    "\n",
    "master_df_clean = master_df_clean[~master_df_clean[\"university_state\"].isin(empty_university_with_error)]\n",
    "\n",
    "\n"
   ]
  },
  {
   "cell_type": "code",
   "execution_count": null,
   "id": "1cddc7d9-5276-40b5-85fc-7ef674cf5710",
   "metadata": {
    "tags": []
   },
   "outputs": [],
   "source": [
    "demographics = pd.read_excel('tabn310.20.xlsx')"
   ]
  },
  {
   "cell_type": "code",
   "execution_count": null,
   "id": "096aad94-e36d-43ba-876b-e0ab8230eea0",
   "metadata": {
    "tags": []
   },
   "outputs": [],
   "source": [
    "demographics.dtypes\n",
    "\n",
    "demographics[demographics.columns[0]]\n",
    "\n",
    "ind_list = [0, 3, 12]\n",
    "demographics = demographics.iloc[ind_list].dropna(axis=1)\n",
    "demographics.columns = demographics.iloc[0]\n",
    "\n",
    "demographics= demographics.iloc[1: , :]\n",
    "\n",
    "demographics_china= demographics.iloc[1: , :]\n",
    "\n",
    "demographics_total = demographics.drop([12],axis=0)\n",
    "\n",
    "demographics_china_long = demographics_china.melt()\n",
    "\n",
    "demographics_total_long = demographics_total.melt()\n",
    "\n",
    "demographics_china_long.columns = demographics_china_long.iloc[0]\n",
    "\n",
    "demographics_total_long.columns = demographics_total_long.iloc[0]\n",
    "\n",
    "demographics_china_long= demographics_china_long.iloc[1: , :]\n",
    "\n",
    "\n",
    "demographics_total_long= demographics_total_long.iloc[1: , :]\n",
    "\n",
    "demographics_china_long = demographics_china_long.rename(columns={\"Continent, region, and selected countries of origin\": \"demographic_years\", '    China': \"china_students_in_USA\"})\n",
    "\n",
    "\n",
    "demographics_total_long = demographics_total_long.rename(columns={\"Continent, region, and selected countries of origin\": \"demographic_years\", '     Total ' : \"total_foreign_students\"})\n",
    "\n",
    "\n"
   ]
  },
  {
   "cell_type": "code",
   "execution_count": null,
   "id": "b3fd896a-9b63-4c01-a97f-ddeea12eba6c",
   "metadata": {
    "tags": []
   },
   "outputs": [],
   "source": [
    "demographics_clean = demographics_china_long.merge(demographics_total_long)\n",
    "\n",
    "demographics_clean['china_student_percent'] = (demographics_clean['china_students_in_USA']/demographics_clean['total_foreign_students'])*100\n",
    "\n",
    "start_school_year= []\n",
    "\n",
    "end_school_year= []\n",
    "\n",
    "for i in demographics_clean['demographic_years']:\n",
    "    start_school_year.append(int(i[0:4]))\n",
    "    end_school_year.append(int(i[0:2]+i[5:7]))\n",
    "\n",
    "demographics_clean['year'] = start_school_year\n",
    "\n",
    "demographics_clean['end_school_year'] = end_school_year\n",
    "\n",
    "# add total foreign\n",
    "\n",
    "demographics_for_merge = demographics_clean[['year', 'china_students_in_USA', 'total_foreign_students', 'china_student_percent']]\n",
    "\n",
    "demographics_for_merge"
   ]
  },
  {
   "cell_type": "code",
   "execution_count": null,
   "id": "e885c19e-267c-4fb3-9de7-5b098c0a9cef",
   "metadata": {
    "tags": []
   },
   "outputs": [],
   "source": [
    "master_df_clean = master_df_clean.merge(demographics_for_merge, how='left', left_on=['year'], right_on=['year'])\n",
    "\n",
    "\n",
    "master_df_clean['china_students_in_USA'] = master_df_clean['china_students_in_USA'].astype(float)\n",
    "master_df_clean['total_foreign_students'] = master_df_clean['total_foreign_students'].astype(float)\n",
    "master_df_clean['china_student_percent'] = master_df_clean['china_student_percent'].astype(float)\n",
    "\n"
   ]
  },
  {
   "cell_type": "code",
   "execution_count": null,
   "id": "d7596dd8-a84c-4a84-bc74-34e082940315",
   "metadata": {
    "tags": []
   },
   "outputs": [],
   "source": [
    "master_df_clean['china_donation_proportion']= master_df_clean['total_china_donation']/master_df_clean['tot_rev_wo_auxother_sum']\n",
    "\n",
    "\n",
    "master_df_clean['china_donation_over_federal']= master_df_clean['total_china_donation']/master_df_clean['federal10']\n",
    "\n"
   ]
  },
  {
   "cell_type": "code",
   "execution_count": null,
   "id": "9589ba2c-8597-4781-814b-2e4eeaa754ea",
   "metadata": {
    "tags": []
   },
   "outputs": [],
   "source": [
    "# create cumulative china donation variable\n",
    "\n",
    "master_df_clean['cumulative_china_donations'] = master_df_clean.groupby('university_state')['total_china_donation'].cumsum()\n",
    "\n",
    "\n",
    "master_df_clean[master_df_clean['schoolname']=='University of Arizona (The)']"
   ]
  },
  {
   "cell_type": "code",
   "execution_count": null,
   "id": "4dcc155a-8885-4766-b412-c7a068d4b1ef",
   "metadata": {
    "tags": []
   },
   "outputs": [],
   "source": [
    "\n",
    "\n",
    "master_df_enroll = master_df_clean.merge(enrollment_long, how='left', left_on=['schoolname', 'year'], right_on=['Institution Name','year'])\n",
    "\n"
   ]
  },
  {
   "cell_type": "code",
   "execution_count": null,
   "id": "8f0248f2-2305-4b45-944e-b3f136b33e36",
   "metadata": {
    "tags": []
   },
   "outputs": [],
   "source": [
    "\n",
    "\n",
    "\n",
    "\n",
    "\n",
    "initial_data = master_df_enroll[['UnitID','university_state', 'schoolname', 'year', 'CI_open',  'public', 'Enrollment', 'federal_share' , 'total_foreign_donation', 'total_china_donation' ]]\n",
    "\n",
    "initial_data[initial_data['schoolname']=='Harvard University']\n",
    "\n",
    "\n",
    "\n",
    "# create labels for variables\n",
    "\n",
    "initial_data[initial_data['UnitID'].isna()]\n",
    "\n",
    "enrollment_long[enrollment_long['Institution Name']== 'Adelphi University']\n",
    "\n",
    "\n",
    "\n",
    "(len(initial_data[(initial_data['year']!=2022)&(initial_data['UnitID'].isna())]))/len(initial_data)\n",
    "\n",
    "\n",
    "\n",
    "\n",
    "initial_data[initial_data['schoolname']=='Yale University']\n",
    "\n",
    "print (len(initial_data[initial_data['UnitID'].isna()]))\n",
    "print (len(initial_data[initial_data['UnitID'].notna()]))\n",
    "\n",
    "len(initial_data[(initial_data['year']!=2022)&(initial_data['UnitID'].isna())]['university_state'].unique())\n",
    "\n",
    "\n",
    "len(initial_data[(initial_data['UnitID'].notna())]['university_state'].unique())"
   ]
  },
  {
   "cell_type": "code",
   "execution_count": null,
   "id": "f80160fe-fe0e-4607-8836-3cc1593d8505",
   "metadata": {
    "tags": []
   },
   "outputs": [],
   "source": [
    "\n",
    "\n",
    "df[df['schoolname']=='Yale University']\n",
    "\n",
    "initial_data[initial_data['UnitID'] == 130794]\n",
    "\n",
    "print(100*(initial_data[initial_data['public']==1]['federal_share'].max()))\n",
    "\n",
    "print(100*(initial_data[initial_data['public']==1]['federal_share'].min()))\n",
    "\n",
    "print(100*(initial_data[initial_data['public']==0]['federal_share'].max()))\n",
    "\n",
    "print(100*(initial_data[initial_data['public']==0]['federal_share'].min()))\n",
    "\n",
    "\n"
   ]
  },
  {
   "cell_type": "code",
   "execution_count": null,
   "id": "9c8037d4-8b67-48e3-89e5-8493bc3ae364",
   "metadata": {
    "tags": []
   },
   "outputs": [],
   "source": [
    "print((initial_data[initial_data['public']==1]['total_china_donation'].max()))\n",
    "\n",
    "print((initial_data[initial_data['public']==1]['total_china_donation'].min()))\n",
    "\n",
    "print((initial_data[initial_data['public']==0]['total_china_donation'].max()))\n",
    "\n",
    "print((initial_data[initial_data['public']==0]['total_china_donation'].min()))\n"
   ]
  },
  {
   "cell_type": "code",
   "execution_count": null,
   "id": "58e5d5af-9736-4497-8148-763cd2095dd7",
   "metadata": {
    "tags": []
   },
   "outputs": [],
   "source": [
    "initial_data.to_stata('initial_data.dta')  \n"
   ]
  },
  {
   "cell_type": "code",
   "execution_count": null,
   "id": "b2d6178e-7360-491e-bea9-1bde3e285745",
   "metadata": {
    "tags": []
   },
   "outputs": [],
   "source": []
  },
  {
   "cell_type": "code",
   "execution_count": null,
   "id": "98f89bc6-d9d9-4a14-9701-51f76ec58ee5",
   "metadata": {
    "tags": []
   },
   "outputs": [],
   "source": []
  },
  {
   "cell_type": "code",
   "execution_count": null,
   "id": "fc01e378-1066-4192-93e7-1659bc451eff",
   "metadata": {
    "tags": []
   },
   "outputs": [],
   "source": []
  },
  {
   "cell_type": "code",
   "execution_count": null,
   "id": "e7bae57c-4c18-4668-9a3c-4787df34f2f7",
   "metadata": {
    "tags": []
   },
   "outputs": [],
   "source": []
  },
  {
   "cell_type": "code",
   "execution_count": null,
   "id": "9c01f16a-c4ba-4700-8e49-8c7ffbb2c12c",
   "metadata": {},
   "outputs": [],
   "source": [
    "\n"
   ]
  },
  {
   "cell_type": "code",
   "execution_count": null,
   "id": "42ddae57-d864-4e75-9e98-0319d81aec24",
   "metadata": {
    "tags": []
   },
   "outputs": [],
   "source": [
    "test_val = master_df_clean[['schoolname','state']]\n",
    "test_val = test_val.drop_duplicates()\n",
    "\n",
    "\n",
    "\n",
    "\n",
    "\n",
    "\n",
    "print(len(test_val)*len(master_df_clean[master_df_clean['schoolname']=='Arizona State University']))\n",
    "\n",
    "len(master_df_clean)\n"
   ]
  },
  {
   "cell_type": "code",
   "execution_count": null,
   "id": "693dda1f-d120-4350-9652-20b0975e8b17",
   "metadata": {
    "tags": []
   },
   "outputs": [],
   "source": []
  },
  {
   "cell_type": "code",
   "execution_count": null,
   "id": "13de4a0a-d41e-4a3d-a3dd-ec7dfc121857",
   "metadata": {
    "tags": []
   },
   "outputs": [],
   "source": [
    "# modify this code with new data\n",
    "survival_df = master_df_enroll[master_df_enroll['year']<2020]\n",
    "\n",
    "survival_df['CI_opening'] = survival_df['CI_open'].diff()\n",
    "\n",
    "\n",
    "# put experiment cut off year at 2020 based on Trump crackdown https://www.pacificresearch.org/trump-administration-cracks-down-on-chinas-u-s-education-propaganda/\n",
    "\n",
    "survival_df[survival_df['schoolname']=='Arizona State University']\n",
    "\n",
    "\n",
    "\n",
    "\n",
    "\n",
    "\n",
    "survival_df['all_year_china_donations'] = survival_df.groupby('university_state')['total_china_donation'].transform('sum')\n",
    "\n",
    "\n",
    "\n",
    "survival_df['all_year_foreign_donations'] = survival_df.groupby('university_state')['total_foreign_donation'].transform('sum')\n",
    "\n",
    "survival_df['all_year_federal10'] = survival_df.groupby('university_state')['federal10'].transform('sum')\n",
    "\n",
    "\n",
    "\n",
    "survival_df['all_year_tot_rev_wo_auxother_sum'] = survival_df.groupby('university_state')['tot_rev_wo_auxother_sum'].transform('sum')\n",
    "\n",
    "\n",
    "\n",
    "\n",
    "\n",
    "\n",
    "survival_df = survival_df[['university_state','schoolname', 'state','public', 'Enrollment', 'year','CI_ever', 'No_CI_years','CI_opening', 'CI_survival_years', 'federal_share', 'total_china_donation', 'cumulative_china_donations','all_year_federal10','all_year_tot_rev_wo_auxother_sum','all_year_china_donations','all_year_foreign_donations']]\n",
    "\n",
    "survival_df_no_CI = survival_df[survival_df['CI_ever']==0]\n",
    "\n",
    "survival_df_no_CI= survival_df_no_CI[survival_df_no_CI['year']==2019]\n",
    "\n",
    "\n",
    "# if status = 0, then the data was censored\n",
    "survival_df_no_CI['status'] = 0\n",
    "\n",
    "\n",
    "survival_df_got_CI = survival_df\n",
    "\n",
    "\n",
    "survival_df_got_CI['No_CI_years']  = survival_df_got_CI.groupby('university_state')['No_CI_years'].ffill()\n",
    "\n",
    "\n",
    "survival_df_got_CI = survival_df[survival_df['CI_opening']==1]\n",
    "survival_df_got_CI['status'] = 1\n",
    "\n",
    "survival_df_clean = pd.concat([survival_df_got_CI, survival_df_no_CI])\n",
    "\n",
    "\n"
   ]
  },
  {
   "cell_type": "code",
   "execution_count": null,
   "id": "99c6118d-0e54-4043-97ed-122650818db2",
   "metadata": {
    "tags": []
   },
   "outputs": [],
   "source": [
    "\n",
    "survival_df[survival_df['university_state']=='University of Oregon_OR']\n",
    "\n"
   ]
  },
  {
   "cell_type": "code",
   "execution_count": null,
   "id": "7d590939-4816-4493-b1c9-ba1ec04eca64",
   "metadata": {
    "tags": []
   },
   "outputs": [],
   "source": [
    "len(survival_df_clean[survival_df_clean['all_year_china_donations']>0])\n",
    "len(survival_df_clean[survival_df_clean['all_year_china_donations']==0])"
   ]
  },
  {
   "cell_type": "code",
   "execution_count": null,
   "id": "e264f5f6-f949-4b68-9761-34fcc100615d",
   "metadata": {
    "tags": []
   },
   "outputs": [],
   "source": []
  },
  {
   "cell_type": "code",
   "execution_count": null,
   "id": "11d10757-6254-4629-8f63-679957edc172",
   "metadata": {
    "tags": []
   },
   "outputs": [],
   "source": [
    "\n",
    "len(survival_df['university_state'].unique())\n",
    "\n",
    "\n",
    "len(survival_df_clean['university_state'].unique())\n",
    "\n",
    "\n",
    "\n",
    "\n",
    "len(survival_df_no_CI[survival_df_no_CI['year']==2019])\n",
    "\n",
    "len(survival_df[survival_df['CI_ever']==0]['university_state'].unique())\n",
    "\n"
   ]
  },
  {
   "cell_type": "code",
   "execution_count": null,
   "id": "73d1c370-2255-42b7-9a1f-bd2ab7f2ab4d",
   "metadata": {
    "tags": []
   },
   "outputs": [],
   "source": [
    "len(survival_df_clean)\n",
    "\n",
    "\n",
    "len(survival_df_clean['university_state'].unique())\n"
   ]
  },
  {
   "cell_type": "code",
   "execution_count": null,
   "id": "74f2ec59-158d-4267-8d62-6a26f1ef3928",
   "metadata": {
    "tags": []
   },
   "outputs": [],
   "source": [
    "# start doing descriptive statistics based on Christine's requests\n",
    "\n",
    "# descriptive Stats\n",
    "\n",
    "# Number of schools \n",
    "\n",
    "from matplotlib import pyplot as plt\n",
    "\n",
    "\n",
    "len(initial_data['university_state'].unique())\n",
    "\n",
    "\n",
    "initial_data[initial_data['CI_open']==1]['university_state'].unique()\n",
    "\n",
    "\n",
    "\n",
    "# Number of schools by CI ever\n",
    "\n",
    "bar_df = survival_df_clean.groupby('CI_ever').count().reset_index()\n",
    "\n",
    "bar_df = bar_df.rename(columns={\"university_state\": \"Number of Schools\"})\n",
    "\n",
    "\n",
    "\n",
    "bar_df['CI_ever'] = bar_df['CI_ever'].map({0: 'No CI Ever', 1: 'Had a CI'})\n",
    "\n",
    "\n",
    "x = bar_df['CI_ever']\n",
    "y = bar_df['Number of Schools']\n",
    "\n",
    "fig, ax = plt.subplots()\n",
    "bars = ax.bar(x, y)\n",
    "\n",
    "ax.bar_label(bars)\n",
    "\n",
    "plt.ylabel(\"Count\")\n",
    "\n",
    "\n",
    "\n",
    "plt.title('Distibution of Universities that ever had a CI (1999-2019)')\n",
    "\n",
    "fig.figure.savefig('CI_ever_bar.png', bbox_inches='tight')\n",
    "\n"
   ]
  },
  {
   "cell_type": "code",
   "execution_count": null,
   "id": "c4bfda46-203c-4e84-ae69-26ce461819df",
   "metadata": {
    "tags": []
   },
   "outputs": [],
   "source": []
  },
  {
   "cell_type": "code",
   "execution_count": null,
   "id": "4eae59d6-c9ae-4ad8-baf4-78d3ac746140",
   "metadata": {
    "tags": []
   },
   "outputs": [],
   "source": []
  },
  {
   "cell_type": "code",
   "execution_count": null,
   "id": "7c36156f-8f32-4b44-9714-31cb71084f50",
   "metadata": {
    "tags": []
   },
   "outputs": [],
   "source": [
    "\n",
    "import seaborn as sns\n",
    "\n",
    "bar_df = survival_df_clean\n",
    "\n",
    "\n",
    "bar_df = bar_df.groupby(['CI_ever', 'public']).count().reset_index()\n",
    "\n",
    "\n",
    "\n",
    "bar_df = bar_df.rename(columns={\"university_state\": \"Number of Schools\"})\n",
    "\n",
    "\n",
    "\n",
    "bar_df['CI_ever'] = bar_df['CI_ever'].map({0: 'No CI Ever', 1: 'Had a CI'})\n",
    "\n",
    "\n",
    "x = bar_df['CI_ever']\n",
    "y = bar_df['Number of Schools']\n",
    "color = bar_df['public']\n",
    "\n",
    "ax = sns.barplot(data=bar_df, x=x, y=y, hue=color)\n",
    "\n",
    "\n",
    "for i in ax.containers:\n",
    "    ax.bar_label(i,)\n",
    "\n",
    "\n",
    "plt.title('Distibution of Universities that ever had a CI by Public or Privte')\n",
    "\n",
    "\n",
    "\n",
    "\n",
    "\n",
    "\n",
    "plt.savefig('CI_ever_pub_bar.png', bbox_inches='tight')\n"
   ]
  },
  {
   "cell_type": "code",
   "execution_count": null,
   "id": "8e059aba-09c8-4e1b-9832-124f87e93103",
   "metadata": {
    "tags": []
   },
   "outputs": [],
   "source": [
    "# enrollment summary stats\n",
    "\n",
    "\n",
    "bar_df = survival_df_clean\n",
    "\n",
    "bar_df['enrollment_available'] = np.where(bar_df['Enrollment'].isna(), 0, 1)\n",
    "\n",
    "\n",
    "\n",
    "bar_df = bar_df.groupby('enrollment_available').count().reset_index()\n",
    "\n",
    "\n",
    "\n",
    "bar_df = bar_df.rename(columns={\"university_state\": \"Number of Schools\"})\n",
    "\n",
    "\n",
    "\n",
    "bar_df['enrollment_available'] = bar_df['enrollment_available'].map({0: 'Not Available', 1: 'Data Available'})\n",
    "\n",
    "\n",
    "x = bar_df['enrollment_available']\n",
    "y = bar_df['Number of Schools']\n",
    "\n",
    "fig, ax = plt.subplots()\n",
    "bars = ax.bar(x, y)\n",
    "\n",
    "ax.bar_label(bars)\n",
    "\n",
    "\n",
    "\n",
    "\n",
    "plt.title('Distibution of Universities that had enrollment data')\n",
    "\n",
    "fig.figure.savefig('enrollment_avail_bar.png', bbox_inches='tight')"
   ]
  },
  {
   "cell_type": "code",
   "execution_count": null,
   "id": "fb45062b-b04c-4e89-bac0-8d134acc33b4",
   "metadata": {
    "tags": []
   },
   "outputs": [],
   "source": [
    "# enrollment summary stats\n",
    "\n",
    "\n",
    "bar_df = survival_df_clean[survival_df_clean['all_year_china_donations']>0]\n",
    "\n",
    "\n",
    "\n",
    "bar_df = bar_df.groupby(['public']).count().reset_index()\n",
    "\n",
    "\n",
    "\n",
    "bar_df = bar_df.rename(columns={\"university_state\": \"Number of Schools\"})\n",
    "\n",
    "\n",
    "\n",
    "bar_df['public'] = bar_df['public'].map({0: 'Private', 1: 'Public'})\n",
    "\n",
    "\n",
    "x = bar_df['public']\n",
    "y = bar_df['Number of Schools']\n",
    "\n",
    "fig, ax = plt.subplots()\n",
    "\n",
    "ax = sns.barplot(data=bar_df, x=x, y=y)\n",
    "\n",
    "for i in ax.containers:\n",
    "    ax.bar_label(i,)\n",
    "\n",
    "\n",
    "\n",
    "\n",
    "plt.title('Distibution of Universities that have ever taken China money by if they are public or private')\n",
    "\n",
    "fig.figure.savefig('china_money_pub_bar.png', bbox_inches='tight')"
   ]
  },
  {
   "cell_type": "code",
   "execution_count": null,
   "id": "3cd8da0a-ee65-4223-a830-809ead45fc0d",
   "metadata": {
    "tags": []
   },
   "outputs": [],
   "source": [
    "bar_df = survival_df_clean[survival_df_clean['CI_ever']==1]\n",
    "\n",
    "bar_df['china_ever'] = np.where(bar_df['all_year_china_donations']>0, 1, 0)\n",
    "\n",
    "\n",
    "\n",
    "bar_df = bar_df.groupby(['china_ever']).count().reset_index()\n",
    "\n",
    "\n",
    "\n",
    "bar_df = bar_df.rename(columns={\"university_state\": \"Number of Schools\"})\n",
    "\n",
    "\n",
    "\n",
    "bar_df['china_ever'] = bar_df['china_ever'].map({0: 'Never taken China money', 1: 'Have taken China money'})\n",
    "\n",
    "\n",
    "\n",
    "\n",
    "x = bar_df['china_ever']\n",
    "y = bar_df['Number of Schools']\n",
    "\n",
    "fig, ax = plt.subplots()\n",
    "\n",
    "ax = sns.barplot(data=bar_df, x=x, y=y)\n",
    "\n",
    "for i in ax.containers:\n",
    "    ax.bar_label(i,)\n",
    "\n",
    "\n",
    "\n",
    "\n",
    "plt.title('Distibution of Universities that have ever had a CI by if they had ever taken China money')\n",
    "\n",
    "fig.figure.savefig('CI_ever_China_money_bar.png', bbox_inches='tight')"
   ]
  },
  {
   "cell_type": "code",
   "execution_count": null,
   "id": "b15ce732-88fb-4f4d-ac8d-507910f8cd56",
   "metadata": {
    "tags": []
   },
   "outputs": [],
   "source": [
    "# enrollment summary stats\n",
    "\n",
    "\n",
    "bar_df = survival_df_clean[survival_df_clean['all_year_china_donations']>0]\n",
    "\n",
    "\n",
    "\n",
    "bar_df = bar_df.groupby('CI_ever').count().reset_index()\n",
    "\n",
    "\n",
    "\n",
    "bar_df = bar_df.rename(columns={\"university_state\": \"Number of Schools\"})\n",
    "\n",
    "\n",
    "\n",
    "bar_df['CI_ever'] = bar_df['CI_ever'].map({0: 'Never had a CI', 1: 'Had a CI'})\n",
    "\n",
    "\n",
    "x = bar_df['CI_ever']\n",
    "y = bar_df['Number of Schools']\n",
    "\n",
    "fig, ax = plt.subplots()\n",
    "bars = ax.bar(x, y)\n",
    "\n",
    "ax.bar_label(bars)\n",
    "\n",
    "\n",
    "\n",
    "\n",
    "plt.title('Distibution of Universities that have ever taken China money by if they recieved a CI or not')\n",
    "\n",
    "fig.figure.savefig('china_money_CI_bar.png', bbox_inches='tight')\n"
   ]
  },
  {
   "cell_type": "code",
   "execution_count": null,
   "id": "9540adf0-5671-4caf-a203-8c24f5d2400a",
   "metadata": {
    "tags": []
   },
   "outputs": [],
   "source": []
  },
  {
   "cell_type": "code",
   "execution_count": null,
   "id": "d7fac102-f771-4dd6-a5b5-0233027b6379",
   "metadata": {
    "tags": []
   },
   "outputs": [],
   "source": [
    "# check distribution of public/private schools missing enrollment data\n",
    "\n",
    "import seaborn as sns\n",
    "\n",
    "bar_df = survival_df_clean\n",
    "\n",
    "bar_df['enrollment_available'] = np.where(bar_df['Enrollment'].isna(), 0, 1)\n",
    "\n",
    "\n",
    "\n",
    "bar_df = bar_df.groupby(['enrollment_available', 'public']).count().reset_index()\n",
    "\n",
    "\n",
    "\n",
    "bar_df = bar_df.rename(columns={\"university_state\": \"Number of Schools\"})\n",
    "\n",
    "\n",
    "\n",
    "bar_df['enrollment_available'] = bar_df['enrollment_available'].map({0: 'Not Available', 1: 'Data Available'})\n",
    "\n",
    "\n",
    "x = bar_df['enrollment_available']\n",
    "y = bar_df['Number of Schools']\n",
    "color = bar_df['public']\n",
    "\n",
    "ax = sns.barplot(data=bar_df, x=x, y=y, hue=color)\n",
    "\n",
    "for i in ax.containers:\n",
    "    ax.bar_label(i,)\n",
    "\n",
    "\n",
    "\n",
    "plt.title('Distibution of Universities that had enrollment data by Public or Private')\n",
    "\n",
    "\n",
    "\n",
    "\n",
    "\n",
    "\n",
    "plt.savefig('enrollment_avail_pub_bar.png', bbox_inches='tight')\n"
   ]
  },
  {
   "cell_type": "code",
   "execution_count": null,
   "id": "1da19548-c4ad-4a33-a6d2-e93fd39336a6",
   "metadata": {
    "tags": []
   },
   "outputs": [],
   "source": [
    "bar_df"
   ]
  },
  {
   "cell_type": "code",
   "execution_count": null,
   "id": "ee8aac46-5723-4437-9ad3-180cc509b449",
   "metadata": {
    "tags": []
   },
   "outputs": [],
   "source": [
    "# do histograms for Fed Share and Chinese money summaries\n",
    "from PIL import Image\n",
    "\n",
    "\n",
    "\n",
    "hist = survival_df_clean\n",
    "\n",
    "hist['public/private'] = hist['public'].map({0: 'private', 1: 'public'})\n",
    "\n",
    "priv_group =  hist[hist['public']==0]['federal_share']*100\n",
    "\n",
    "pub_group= hist[hist['public']==1]['federal_share']*100\n",
    "\n",
    "\n",
    "fig, axs = plt.subplots()\n",
    "\n",
    "plt.hist(priv_group, label='private', alpha=.8, edgecolor='red')\n",
    "\n",
    "\n",
    "plt.hist(pub_group, label='public', alpha=.8, edgecolor='green')\n",
    "\n",
    "#fig = plt.hist(plot, normed=0)\n",
    "\n",
    "\n",
    "plt.legend()\n",
    "\n",
    "\n",
    "plt.xlabel(\"Fed Share (%)\")\n",
    "plt.ylabel(\"Count\")\n",
    "\n",
    "\n",
    "plt.title('Distribution of Universities by Federal Share')\n",
    "\n",
    "# Showing the plot using plt.show()\n",
    "plt.show()\n",
    "\n",
    "fig.figure.savefig('fed_share_hist.png', bbox_inches='tight')"
   ]
  },
  {
   "cell_type": "code",
   "execution_count": null,
   "id": "d8edbe81-3e7d-40b0-a1f2-4b9d90982c0f",
   "metadata": {
    "tags": []
   },
   "outputs": [],
   "source": [
    "survival_df"
   ]
  },
  {
   "cell_type": "code",
   "execution_count": null,
   "id": "70657d6b-3d59-44b4-bf36-4be3c3baeaba",
   "metadata": {
    "tags": []
   },
   "outputs": [],
   "source": []
  },
  {
   "cell_type": "code",
   "execution_count": null,
   "id": "539da10c-b873-4301-b941-8d68ff89173d",
   "metadata": {
    "tags": []
   },
   "outputs": [],
   "source": [
    "# do histograms for Fed Share and Chinese money summaries\n",
    "from PIL import Image\n",
    "\n",
    "# tryt \n",
    "\n",
    "hist = survival_df_clean\n",
    "\n",
    "\n",
    "priv_group =  hist[hist['public']==0]['all_year_china_donations']\n",
    "\n",
    "pub_group= hist[hist['public']==1]['all_year_china_donations']\n",
    "\n",
    "\n",
    "\n",
    "\n",
    "\n",
    "\n",
    "fig, axs = plt.subplots()\n",
    "\n",
    "plt.hist(priv_group, label='private', alpha=.8, edgecolor='red', bins=20)\n",
    "\n",
    "\n",
    "plt.hist(pub_group, label='public', alpha=.8, edgecolor='green', bins=20)\n",
    "\n",
    "#fig = plt.hist(plot, normed=0)\n",
    "\n",
    "\n",
    "plt.legend()\n",
    "\n",
    "\n",
    "plt.xlabel(\"Total China Donations Collected ($ 100 million)\")\n",
    "plt.ylabel(\"Count\")\n",
    "\n",
    "\n",
    "plt.title('Distribution of Universities by Chinese Donations collected over all years')\n",
    "\n",
    "# Showing the plot using plt.show()\n",
    "plt.show()\n",
    "\n",
    "fig.figure.savefig('china_donation_hist.png', bbox_inches='tight')\n"
   ]
  },
  {
   "cell_type": "code",
   "execution_count": null,
   "id": "e34f1746-02b5-4c78-a739-8df8f11ec071",
   "metadata": {
    "tags": []
   },
   "outputs": [],
   "source": [
    "# do histograms for Fed Share and Chinese money summaries\n",
    "from PIL import Image\n",
    "\n",
    "# tryt \n",
    "\n",
    "hist = survival_df_clean[survival_df_clean['all_year_china_donations']>0]\n",
    "\n",
    "\n",
    "priv_group =  hist[hist['public']==0]['all_year_china_donations']\n",
    "\n",
    "pub_group= hist[hist['public']==1]['all_year_china_donations']\n",
    "\n",
    "\n",
    "\n",
    "\n",
    "\n",
    "\n",
    "fig, axs = plt.subplots()\n",
    "\n",
    "plt.hist(priv_group, label='private', alpha=.8, edgecolor='red', bins=20)\n",
    "\n",
    "\n",
    "plt.hist(pub_group, label='public', alpha=.8, edgecolor='green', bins=20)\n",
    "\n",
    "#fig = plt.hist(plot, normed=0)\n",
    "\n",
    "\n",
    "plt.legend()\n",
    "\n",
    "\n",
    "plt.xlabel(\"Total China Donations Collected ($ 100 million)\")\n",
    "plt.ylabel(\"Count\")\n",
    "\n",
    "\n",
    "plt.title('Distribution of Universities (that have taken China Donations) by Total Chinese Donations collected over all years')\n",
    "\n",
    "# Showing the plot using plt.show()\n",
    "plt.show()\n",
    "\n",
    "fig.figure.savefig('china_donation_taken_hist.png', bbox_inches='tight')\n"
   ]
  },
  {
   "cell_type": "code",
   "execution_count": null,
   "id": "9c09d34d-7b37-4679-963d-f014a4d43fb2",
   "metadata": {
    "tags": []
   },
   "outputs": [],
   "source": []
  },
  {
   "cell_type": "code",
   "execution_count": null,
   "id": "bfad4ebf-1d31-4ead-b803-bcfe64cf014d",
   "metadata": {
    "tags": []
   },
   "outputs": [],
   "source": []
  },
  {
   "cell_type": "code",
   "execution_count": null,
   "id": "f474cbcb-d751-4835-bde6-51e2db03db3a",
   "metadata": {},
   "outputs": [],
   "source": []
  },
  {
   "cell_type": "code",
   "execution_count": null,
   "id": "1c78ed01-eecd-4242-8e24-d34844fad74b",
   "metadata": {
    "tags": []
   },
   "outputs": [],
   "source": [
    "\n"
   ]
  },
  {
   "cell_type": "code",
   "execution_count": null,
   "id": "e094354d-67cf-4bf3-a482-805e95950327",
   "metadata": {
    "tags": []
   },
   "outputs": [],
   "source": []
  },
  {
   "cell_type": "code",
   "execution_count": null,
   "id": "53a821b1-a55f-4f5f-8283-85bef07184d5",
   "metadata": {
    "tags": []
   },
   "outputs": [],
   "source": [
    "# Number of schools by Public Private \n",
    "\n",
    "bar_df = survival_df_clean.groupby('public').count().reset_index()\n",
    "\n",
    "bar_df = bar_df.rename(columns={\"university_state\": \"Number of Schools\"})\n",
    "\n",
    "\n",
    "\n",
    "bar_df['public/private'] = bar_df['public'].map({0: 'private', 1: 'public'})\n",
    "\n",
    "\n",
    "x = bar_df['public/private']\n",
    "y = bar_df['Number of Schools']\n",
    "\n",
    "fig, ax = plt.subplots()\n",
    "bars = ax.bar(x, y)\n",
    "\n",
    "ax.bar_label(bars)\n",
    "\n",
    "\n",
    "\n",
    "plt.ylabel(\"Count\")\n",
    "\n",
    "\n",
    "plt.title('Distibution of Universities that were public or private')\n",
    "\n",
    "fig.figure.savefig('pub_priv_bar.png', bbox_inches='tight')\n"
   ]
  },
  {
   "cell_type": "code",
   "execution_count": null,
   "id": "32ae7660-e2d0-401c-977d-93cbd213022d",
   "metadata": {
    "tags": []
   },
   "outputs": [],
   "source": [
    "survival_df[survival_df['university_state']=='Alfred University_NY']\n",
    "\n",
    "\n",
    "len(survival_df_clean)"
   ]
  },
  {
   "cell_type": "code",
   "execution_count": null,
   "id": "f07c6312-2aba-48cd-b196-8a79ebd3473c",
   "metadata": {
    "tags": []
   },
   "outputs": [],
   "source": [
    "china_donation_log_non_norm = []\n",
    "\n",
    "\n",
    "non_normalized_df = survival_df\n",
    "\n",
    "\n",
    "for i in non_normalized_df['total_china_donation']:\n",
    "    if i !=0:\n",
    "        china_donation_log_non_norm.append(math.log(i))\n",
    "    else:\n",
    "        i_mod = i+1\n",
    "        china_donation_log_non_norm.append(math.log(i_mod))\n",
    "        \n",
    "non_normalized_df['china_donation_log_non_norm'] = china_donation_log_non_norm\n",
    "ols = non_normalized_df"
   ]
  },
  {
   "cell_type": "code",
   "execution_count": null,
   "id": "7df8fcff-f635-4980-b690-19241b283940",
   "metadata": {
    "tags": []
   },
   "outputs": [],
   "source": [
    "ols_CI = ols[ols['CI_ever']==1]\n",
    "\n",
    "ols_no_CI = ols[ols['CI_ever']==0]\n",
    "\n",
    "ols_public_CI = ols[(ols['CI_ever']==1)&(ols['public']==1) ]\n",
    "\n",
    "ols_private_CI = ols[(ols['CI_ever']==1)&(ols['public']==0) ]\n",
    "\n"
   ]
  },
  {
   "cell_type": "code",
   "execution_count": null,
   "id": "365556a9-ae5b-4ecd-a07f-79c6a3a75b0b",
   "metadata": {
    "tags": []
   },
   "outputs": [],
   "source": [
    "y_1 =ols['china_donation_log_non_norm']\n",
    "\n",
    "x_1= ols[['year']]\n",
    "\n",
    "x_1 = sm.add_constant(x_1)\n",
    "\n",
    "result_CI = sm.OLS(y_1, x_1).fit()\n",
    "\n",
    "\n",
    "y_2 =ols_no_CI['china_donation_log_non_norm']\n",
    "x_2 = ols_no_CI[['year']]\n",
    "\n",
    "x_2 = sm.add_constant(x_2)\n",
    "\n",
    "result_no_CI = sm.OLS(y_2, x_2).fit()\n",
    "\n",
    "y_3 =ols_public_CI['china_donation_log_non_norm']\n",
    "\n",
    "x_3 = ols_public_CI[['year']]\n",
    "\n",
    "x_3 = sm.add_constant(x_3)\n",
    "\n",
    "result_pub_CI = sm.OLS(y_3, x_3).fit()\n",
    "\n",
    "\n",
    "\n",
    "y_4 =ols_private_CI['china_donation_log_non_norm']\n",
    "\n",
    "x_4 = ols_private_CI[['year']]\n",
    "\n",
    "x_4 = sm.add_constant(x_4)\n",
    "\n",
    "result_priv_CI = sm.OLS(y_4, x_4).fit()\n",
    "\n",
    "\n",
    "\n",
    "stargazer = Stargazer([result_CI, result_no_CI, result_pub_CI, result_priv_CI])\n",
    "\n",
    "\n",
    "\n",
    "\n",
    "HTML(stargazer.render_latex())"
   ]
  },
  {
   "cell_type": "code",
   "execution_count": null,
   "id": "84389b19-36c9-4b99-aeb7-8fafc0051383",
   "metadata": {
    "tags": []
   },
   "outputs": [],
   "source": [
    "# OLS without interactions\n",
    "from stargazer.stargazer import Stargazer\n",
    "import statsmodels.api as sm\n",
    "from IPython.core.display import HTML\n",
    "\n",
    " \n",
    "\n",
    "\n",
    "stargazer = Stargazer([result_linear])\n",
    "\n",
    "print(result_linear.summary())\n",
    "\n",
    "\n",
    "HTML(stargazer.render_latex())\n",
    "\n",
    "import seaborn as sns\n",
    "\n",
    "ax = sns.regplot(x='year', y='china_donation_log_non_norm', order=1, label=\"All Universities\", data=ols)\n",
    "\n",
    "ax.legend(loc=\"best\")\n",
    "\n",
    "\n",
    "ax_no_CI = sns.regplot(x='year', y='china_donation_log_non_norm', order=1, label=\"No CI\", data=ols_no_CI)\n",
    "\n",
    "ax_no_CI.legend(loc=\"best\")\n",
    "\n",
    "\n",
    "ax_CI_pub = sns.regplot(x='year', y='china_donation_log_non_norm', order=1, label=\"Public and CI\", data=ols_public_CI)\n",
    "\n",
    "ax_CI_pub.legend(loc=\"best\")\n",
    "\n",
    "\n",
    "ax_CI_priv = sns.regplot(x='year', y='china_donation_log_non_norm', order=1, label=\"Private and CI\", data=ols_private_CI)\n",
    "\n",
    "ax_CI_priv.legend(loc=\"best\")\n",
    "\n",
    "\n",
    "ax_CI = sns.regplot(x='year', y='china_donation_log_non_norm', order=1, label=\"CI\",  data=ols_CI)\n",
    "\n",
    "ax_CI.legend(loc=\"best\")\n",
    "\n",
    "plt.title(\"Linear models of log Chinese funding over time\")\n",
    "plt.savefig('regressions.png')\n",
    "\n",
    "\n",
    "\n",
    "# adding the constant term\n",
    "# performing the regression\n",
    "# and fitting the model\n",
    " \n",
    "# printing the summary table\n",
    "\n",
    "# make graphs from using pregrouped "
   ]
  },
  {
   "cell_type": "code",
   "execution_count": null,
   "id": "ee136790-531d-49dc-b698-3c41dd0e9547",
   "metadata": {},
   "outputs": [],
   "source": []
  },
  {
   "cell_type": "code",
   "execution_count": null,
   "id": "7c480db0-c6e8-459f-88ae-7215a18800d9",
   "metadata": {
    "tags": []
   },
   "outputs": [],
   "source": [
    "\n",
    "\n",
    "# do t0 analysis with total_china_donation statistic for one university first\n",
    "import itertools\n",
    "\n",
    "\n",
    "\n",
    "uni_names_filter= survival_df[survival_df['all_year_china_donations']>0]['university_state'].unique()\n",
    "\n",
    "\n",
    "normalized_df = survival_df[(survival_df['CI_ever']==1)&(survival_df['university_state'].isin(uni_names_filter))]\n",
    "\n",
    "\n",
    "uni_names = normalized_df['university_state'].unique()\n",
    "\n",
    "\n",
    "\n",
    "\n",
    "\n",
    "# make number line based on CI_opening column\n",
    "\n",
    "school_timeline_list = []\n",
    "\n",
    "for i in uni_names:\n",
    "    school_timeline = normalized_df[normalized_df['university_state']== i]\n",
    "    No_CI_years = (school_timeline['No_CI_years']-school_timeline['No_CI_years'].max()-1).drop_duplicates()\n",
    "    CI_years = school_timeline['CI_survival_years'].dropna()-1\n",
    "    timeline = No_CI_years.append(CI_years).to_list()\n",
    "    #school_timeline['timeline'] = timeline\n",
    "    school_timeline_list.append(timeline)\n",
    "    \n",
    "\n",
    "\n",
    "\n",
    "\n",
    "school_timeline_clean = list(itertools.chain.from_iterable(school_timeline_list))\n",
    "\n",
    "\n",
    "normalized_df['timeline'] = school_timeline_clean\n"
   ]
  },
  {
   "cell_type": "code",
   "execution_count": null,
   "id": "808ccb8c-3a76-4ca2-8e26-554b2a3531f7",
   "metadata": {
    "tags": []
   },
   "outputs": [],
   "source": [
    "uni_names_filter\n",
    "\n",
    "uni_names_check= survival_df[survival_df['all_year_china_donations']>0]['university_state'].unique()\n",
    "\n",
    "\n",
    "print(set(uni_names_check).difference(uni_names_filter))\n",
    "\n",
    "\n",
    "survival_df[survival_df['university_state']=='Yale University_CT']\n",
    "\n",
    "survival_df_clean[survival_df_clean['university_state']=='Arizona State University_AZ']\n",
    "\n",
    "survival_df[survival_df['university_state']=='Arizona State University_AZ']\n"
   ]
  },
  {
   "cell_type": "code",
   "execution_count": null,
   "id": "2bddbefc-41b1-446b-9816-7f68c20de56f",
   "metadata": {
    "tags": []
   },
   "outputs": [],
   "source": []
  },
  {
   "cell_type": "code",
   "execution_count": null,
   "id": "7e1c3659-489b-4009-9242-c850bb4eaf6f",
   "metadata": {
    "tags": []
   },
   "outputs": [],
   "source": [
    "graph_test = normalized_df[normalized_df['university_state']== 'Arizona State University_AZ']\n",
    "\n",
    "y = graph_test['total_china_donation']\n",
    "x = graph_test['timeline']\n",
    "\n",
    "\n",
    "# Create a line plot\n",
    "\n",
    "\n",
    "plt.plot(x, y)\n",
    "\n",
    "\n",
    "plt.title(\"Total Chinese donations in a year for \" + graph_test['schoolname'].to_list()[1] + \" before and after CI opens ($)\")\n",
    "\n",
    "plt.xlabel(\"Number of years since opening a CI\")\n",
    "plt.ylabel(\"Total Chinese donations in a year ($ million)\")\n",
    "\n",
    "# make graphs for each university with normalized data"
   ]
  },
  {
   "cell_type": "code",
   "execution_count": null,
   "id": "e34b8921-5e06-41b4-a4df-7b42c636542d",
   "metadata": {
    "tags": []
   },
   "outputs": [],
   "source": [
    "\n",
    "for i in uni_names:\n",
    "    graph_test = normalized_df[normalized_df['university_state']== i]\n",
    "    y = graph_test['total_china_donation']\n",
    "    x = graph_test['timeline']\n",
    "    fig, ax = plt.subplots()\n",
    "    ax.plot(x, y)\n",
    "    ax.scatter(x, y)\n",
    "    plt.title(\"Total Chinese donations in a year for \" + graph_test['schoolname'].to_list()[1] + \" before and after CI opens\")\n",
    "    plt.xlabel(\"Number of years since opening a CI\")\n",
    "    plt.ylabel(\"Total Chinese donations in a year ($ million)\")\n",
    "    fig.savefig(graph_test['schoolname'].to_list()[1] + '_donation_CI.png', bbox_inches='tight')\n",
    "    plt.close(fig)"
   ]
  },
  {
   "cell_type": "code",
   "execution_count": null,
   "id": "540d4b7d-f7e6-4e9a-a95e-75bd272e4242",
   "metadata": {
    "tags": []
   },
   "outputs": [],
   "source": [
    "china_donation_log = []\n",
    "\n",
    "\n",
    "visualization_df = normalized_df\n",
    "for i in normalized_df['total_china_donation']:\n",
    "    if i !=0:\n",
    "        china_donation_log.append(math.log(i))\n",
    "    else:\n",
    "        i_mod = i+1\n",
    "        china_donation_log.append(math.log(i_mod))\n",
    "        \n",
    "visualization_df['china_donation_log'] = china_donation_log\n",
    "\n"
   ]
  },
  {
   "cell_type": "code",
   "execution_count": null,
   "id": "2d4455d7-d954-4b26-bac3-a69fb9565758",
   "metadata": {
    "tags": []
   },
   "outputs": [],
   "source": [
    "# compile graphs for 57 schools \n",
    "\n",
    "\n",
    "\n",
    "# try combining all these lines into one figure\n",
    "\n",
    "y = visualization_df['china_donation_log'] \n",
    "x = visualization_df['timeline']\n",
    "c =visualization_df['university_state']\n",
    "fig, ax = plt.subplots()\n",
    "ax.plot(x, y)\n",
    "ax.scatter(x, y)\n",
    "plt.title(\"Log Chinese donations in a year for all schools within experimental set\")\n",
    "plt.xlabel(\"timeline\")\n",
    "plt.ylabel(\"Log Chinese donations in a year\")\n",
    "\n",
    "\n",
    "\n",
    "\n",
    "\n",
    "plt.xticks(rotation=45)\n",
    "\n",
    "break_graph = sns.lineplot(x= x, y= y, hue = c)\n",
    "\n",
    "ax.get_legend().set_visible(False)\n",
    "\n",
    "break_graph.figure.savefig('timeline_graph.png', bbox_inches='tight')\n"
   ]
  },
  {
   "cell_type": "code",
   "execution_count": null,
   "id": "692c76f6-3a0d-4181-ac8b-d3841fbd67d1",
   "metadata": {
    "tags": []
   },
   "outputs": [],
   "source": [
    "# do similar graph for all universities except the ones with a CI AND Chinese donations\n",
    "# try with only public schools\n",
    "break_df = survival_df[(survival_df['public']==1)&~((survival_df['all_year_china_donations']>0) & (survival_df['CI_ever']==1))]\n",
    "\n",
    "break_names = break_df['university_state'].unique()\n",
    "\n",
    "# try combining all these lines into one figure\n",
    "\n",
    "y = break_df['total_china_donation']\n",
    "x = break_df['year']\n",
    "c =break_df['university_state']\n",
    "fig, ax = plt.subplots()\n",
    "ax.plot(x, y)\n",
    "ax.scatter(x, y)\n",
    "plt.title(\"Total Chinese donations in a year for all schools outside of experimental set\")\n",
    "plt.xlabel(\"Year\")\n",
    "plt.ylabel(\"Total Chinese donations in a year ($ 10 million)\")\n",
    "\n",
    "\n",
    "\n",
    "\n",
    "\n",
    "plt.xticks(rotation=45)\n",
    "\n",
    "break_graph = sns.lineplot(x= x, y= y, hue = c)\n",
    "\n",
    "ax.get_legend().set_visible(False)\n",
    "\n",
    "break_graph.figure.savefig('break_graph.png', bbox_inches='tight')\n",
    "\n"
   ]
  },
  {
   "cell_type": "code",
   "execution_count": null,
   "id": "f2101822-89de-4906-a0b7-dc09f903f8e5",
   "metadata": {
    "tags": []
   },
   "outputs": [],
   "source": [
    "survival_df\n",
    "\n",
    "\n",
    "\n",
    "# validation\n",
    "len(survival_df['university_state'].unique())-(len(break_names)+len(uni_names))"
   ]
  },
  {
   "cell_type": "code",
   "execution_count": null,
   "id": "2e8fe81e-abdc-45d0-9eaf-4fe5960f32ef",
   "metadata": {
    "tags": []
   },
   "outputs": [],
   "source": []
  },
  {
   "cell_type": "code",
   "execution_count": null,
   "id": "d8d3a073-4f8c-45c2-8ec2-478482084b83",
   "metadata": {
    "tags": []
   },
   "outputs": [],
   "source": [
    "ols_df_grouped = normalized_df[['university_state','schoolname','state', 'year', 'public', 'federal_share', 'total_china_donation', 'timeline']]\n",
    "\n",
    "\n",
    "ols_df_grouped['timeline_grouped'] = pd.cut(ols_df_grouped['timeline'], bins=6)\n",
    "\n",
    "ols_df_grouped['ma_china_donation'] = ols_df_grouped.groupby(['university_state','timeline_grouped'])['total_china_donation'].transform('mean')\n",
    "\n",
    "\n",
    "\n",
    "\n",
    "ols_df_grouped = ols_df_grouped.rename(columns={\"timeline_grouped\": \"T_\"})\n",
    "ols_df_grouped = ols_df_grouped[['university_state','schoolname','state', 'year',  'public', 'federal_share', 'ma_china_donation', 'T_']]\n",
    "\n",
    "# fix data grouping\n",
    "\n",
    "ols_df_grouped[ols_df_grouped['university_state']=='Alfred University_NY']\n",
    "\n",
    "ols_df_grouped = ols_df_grouped[['university_state','schoolname','state', 'public', 'federal_share', 'ma_china_donation', 'T_']]\n",
    "\n",
    "ols_df_grouped = ols_df_grouped.drop_duplicates()\n",
    "\n",
    "# make graph from using this data before dummies were created\n",
    "\n",
    "china_donation_log = []\n",
    "\n",
    "\n",
    "visualization_df = ols_df_grouped\n",
    "for i in visualization_df['ma_china_donation']:\n",
    "    if i !=0:\n",
    "        china_donation_log.append(math.log(i))\n",
    "    else:\n",
    "        i_mod = i+1\n",
    "        china_donation_log.append(math.log(i_mod))\n",
    "        \n",
    "visualization_df['china_donation_log'] = china_donation_log\n",
    "\n",
    "\n",
    "plt.figure(figsize=[10, 5])\n",
    "\n",
    "\n",
    "\n",
    "\n",
    "ax = sns.boxplot(x=\"T_\",\n",
    "                y=\"china_donation_log\",\n",
    "                data=visualization_df).set(xlabel =\"Timeline categories (year ranges)\", ylabel = 'Log of moving average China donation', title = \"Log average donations from China by timeline of Confucius Institute opening\")\n",
    "\n",
    "\n",
    "plt.savefig(\"ols.png\") \n",
    "\n",
    "ols_df_grouped = pd.get_dummies(ols_df_grouped, columns=['T_'],\n",
    "               drop_first=True)\n"
   ]
  },
  {
   "cell_type": "code",
   "execution_count": null,
   "id": "c143319e-895d-4956-a45e-15a682de15bc",
   "metadata": {},
   "outputs": [],
   "source": []
  },
  {
   "cell_type": "code",
   "execution_count": null,
   "id": "089d1529-5698-4a0a-882f-897b1cf96b62",
   "metadata": {
    "tags": []
   },
   "outputs": [],
   "source": [
    "# summary stats tables for latex\n",
    "\n",
    "from stargazer.stargazer import Stargazer\n",
    "import statsmodels.api as sm\n",
    "from IPython.core.display import HTML\n",
    "summary_df = survival_df_clean[['university_state','public', 'year', 'CI_ever', 'CI_survival_years', 'CI_opening', 'federal_share', 'all_year_china_donations','Enrollment' , 'enrollment_available']]\n",
    "summary_df_china_ever = survival_df_clean[['university_state','public', 'year', 'CI_ever', 'CI_survival_years', 'CI_opening', 'federal_share','Enrollment' , 'enrollment_available', 'all_year_china_donations']]\n",
    "\n",
    "\n",
    "# convert these tables into latex\n",
    "\n",
    "\n",
    "# summary for public\n",
    "summary_stats_pub = np.round(summary_df.groupby('public').describe(percentiles = []), 2).T\n",
    "\n",
    "# summary for enroll\n",
    "\n",
    "summary_stats_enroll = np.round(summary_df.groupby('enrollment_available').describe(percentiles = []), 2).T\n",
    "\n",
    "# summary for enroll and public\n",
    "\n",
    "summary_stats_enroll_pub = np.round(summary_df.groupby(['enrollment_available', 'public']).describe(percentiles = []), 2).T\n",
    "\n",
    "\n",
    "# summary for CI ever \n",
    "\n",
    "summary_stats_CI_ever = np.round(summary_df.groupby('CI_ever').describe(percentiles = []), 2).T\n",
    "\n",
    "# summary for CI ever and public\n",
    "\n",
    "summary_stats_CI_pub = np.round(summary_df.groupby(['CI_ever', 'public']).describe(percentiles = []), 2).T\n",
    "\n",
    "\n",
    "summary_df_china_ever['china_ever'] = np.where((summary_df_china_ever['all_year_china_donations']>0), 1, 0)\n",
    "\n",
    "\n",
    "# summary for ever taken Chinese donation\n",
    "\n",
    "summary_stats_china_ever = np.round(summary_df_china_ever.groupby('china_ever').describe(percentiles = []), 2).T\n",
    "\n",
    "\n",
    "\n",
    "# summary for ever taken Chinese donation and public\n",
    "\n",
    "summary_stats_china_pub = np.round(summary_df_china_ever.groupby(['china_ever', 'public']).describe(percentiles = []), 2).T\n",
    "\n",
    "\n",
    "\n",
    "\n"
   ]
  },
  {
   "cell_type": "code",
   "execution_count": null,
   "id": "ff4c171c-9020-4c32-84ae-6f4d5ea430d7",
   "metadata": {
    "tags": []
   },
   "outputs": [],
   "source": [
    "\n",
    "\n",
    "\n",
    "len(summary_df_china_ever[(summary_df_china_ever['china_ever']>0)&(summary_df_china_ever['CI_ever']==1)])\n",
    "\n",
    "len(summary_df_china_ever[(summary_df_china_ever['china_ever']==1)&(summary_df_china_ever['CI_ever']==1)])\n",
    "\n",
    "\n",
    "len(summary_df)\n"
   ]
  },
  {
   "cell_type": "code",
   "execution_count": null,
   "id": "ac337963-893c-47aa-8302-1e13812c2fe1",
   "metadata": {
    "tags": []
   },
   "outputs": [],
   "source": [
    "# summary stats tables for latex\n",
    "\n",
    "from stargazer.stargazer import Stargazer\n",
    "import statsmodels.api as sm\n",
    "from IPython.core.display import HTML\n",
    "summary_df = survival_df_clean[['university_state','public', 'year', 'CI_ever', 'CI_survival_years', 'CI_opening', 'federal_share', 'all_year_china_donations','Enrollment' , 'enrollment_available']]\n",
    "summary_df_china_ever = survival_df_clean[['university_state','public', 'year', 'CI_ever', 'CI_survival_years', 'CI_opening', 'federal_share','Enrollment' , 'enrollment_available', 'all_year_china_donations']]\n",
    "\n",
    "\n",
    "# convert these tables into latex\n",
    "\n",
    "\n",
    "# summary for public\n",
    "summary_stats_pub = np.round(summary_df.groupby('public').describe(percentiles = []), 2).T\n",
    "\n",
    "# summary for enroll\n",
    "\n",
    "summary_stats_enroll = np.round(summary_df.groupby('enrollment_available').describe(percentiles = []), 2).T\n",
    "\n",
    "# summary for enroll and public\n",
    "\n",
    "summary_stats_enroll_pub = np.round(summary_df.groupby(['enrollment_available', 'public']).describe(percentiles = []), 2).T\n",
    "\n",
    "\n",
    "# summary for CI ever \n",
    "\n",
    "summary_stats_CI_ever = np.round(summary_df.groupby('CI_ever').describe(percentiles = []), 2).T\n",
    "\n",
    "# summary for CI ever and public\n",
    "\n",
    "summary_stats_CI_pub = np.round(summary_df.groupby(['CI_ever', 'public']).describe(percentiles = []), 2).T\n",
    "\n",
    "\n",
    "summary_df_china_ever['china_ever'] = np.where((summary_df_china_ever['all_year_china_donations']>0), 1, 0)\n",
    "\n",
    "\n",
    "# summary for ever taken Chinese donation\n",
    "\n",
    "summary_stats_china_ever = np.round(summary_df_china_ever.groupby('china_ever').describe(percentiles = []), 2).T\n",
    "\n",
    "\n",
    "\n",
    "# summary for ever taken Chinese donation and public\n",
    "\n",
    "summary_stats_china_pub = np.round(summary_df_china_ever.groupby(['china_ever', 'public']).describe(percentiles = []), 2).T\n",
    "\n",
    "\n",
    "\n",
    "\n"
   ]
  },
  {
   "cell_type": "code",
   "execution_count": null,
   "id": "75b84922-d769-487c-9ef4-c4711ebfa229",
   "metadata": {
    "tags": []
   },
   "outputs": [],
   "source": [
    "\n",
    "\n",
    "print('\\section{Summary statistics for universities by public or private}')\n",
    "print(summary_stats_pub.to_latex())\n",
    "\n",
    "print('\\section{Summary statistics for universities by which ones have enrollment data in our data set}')\n",
    "print(summary_stats_enroll.to_latex())\n",
    "print('\\section{Summary statistics for universities by which ones have enrollment data in our data set separated by public and private}')\n",
    "\n",
    "print(summary_stats_enroll_pub.to_latex())\n",
    "\n",
    "print('\\section{Summary statistics for universities by which ones have ever had a CI}')\n",
    "print(summary_stats_CI_ever.to_latex())\n",
    "\n",
    "print('\\section{Summary statistics for universities by which ones have ever had a CI separated by public and private}')\n",
    "\n",
    "print(summary_stats_CI_pub.to_latex())\n",
    "\n",
    "\n",
    "# use long table\n",
    "print('\\section{Summary statistics for universities by which ones have ever taken China money}')\n",
    "print(summary_stats_china_ever.to_latex())\n",
    "\n",
    "\n",
    "# use long table\n",
    "\n",
    "print('\\section{Summary statistics for universities by ever having taken China money separated by public or private}')\n",
    "\n",
    "print(summary_stats_china_pub.to_latex())\n",
    "\n"
   ]
  },
  {
   "cell_type": "code",
   "execution_count": null,
   "id": "c1b836fc-4ade-4e94-b131-89360363d06d",
   "metadata": {},
   "outputs": [],
   "source": []
  },
  {
   "cell_type": "code",
   "execution_count": null,
   "id": "d39417ec-93b9-4a31-b785-d6a534a27e6b",
   "metadata": {
    "tags": []
   },
   "outputs": [],
   "source": [
    "ma_china_donation_log = []\n",
    "\n",
    "for i in ols_df_grouped['ma_china_donation']:\n",
    "    if i !=0:\n",
    "        ma_china_donation_log.append(math.log(i))\n",
    "    else:\n",
    "        i_mod = i+1\n",
    "        ma_china_donation_log.append(math.log(i_mod))\n",
    "        \n",
    "ols_df_grouped['ma_china_donation_log'] = ma_china_donation_log\n",
    "\n",
    "    "
   ]
  },
  {
   "cell_type": "code",
   "execution_count": null,
   "id": "5b5e0f98-da69-470c-be4d-0746ea995c49",
   "metadata": {
    "tags": []
   },
   "outputs": [],
   "source": [
    "# OLS without interactions\n",
    "from stargazer.stargazer import Stargazer\n",
    "import statsmodels.api as sm\n",
    "from IPython.core.display import HTML\n",
    "\n",
    " \n",
    "y =ols_df_grouped['ma_china_donation_log']\n",
    "\n",
    "x = ols_df_grouped[['public','T__(-16.0, -10.0]','T__(-10.0, -4.0]','T__(-4.0, 2.0]','T__(2.0, 8.0]','T__(8.0, 14.0]']]\n",
    "\n",
    "x = sm.add_constant(x)\n",
    "\n",
    "\n",
    "\n",
    "# adding the constant term\n",
    " \n",
    "# performing the regression\n",
    "# and fitting the model\n",
    "result_1 = sm.OLS(y, x).fit()\n",
    " \n",
    "# printing the summary table\n",
    "\n",
    "# make graphs from using pregrouped "
   ]
  },
  {
   "cell_type": "code",
   "execution_count": null,
   "id": "9f710f9a-07bf-4262-9648-4aff5bd6bb39",
   "metadata": {
    "tags": []
   },
   "outputs": [],
   "source": []
  },
  {
   "cell_type": "code",
   "execution_count": null,
   "id": "82f1f371-4533-4d70-86f3-6d1c0489d91f",
   "metadata": {
    "tags": []
   },
   "outputs": [],
   "source": []
  },
  {
   "cell_type": "code",
   "execution_count": null,
   "id": "18bcbae7-2be0-4bff-9009-26f1899aac34",
   "metadata": {
    "tags": []
   },
   "outputs": [],
   "source": []
  },
  {
   "cell_type": "code",
   "execution_count": null,
   "id": "13ea0456-73de-469c-b9f5-be26121aa93b",
   "metadata": {
    "tags": []
   },
   "outputs": [],
   "source": [
    "\n",
    "# OLS with interactions\n",
    "\n",
    "import statsmodels.api as sm\n",
    "\n",
    " \n",
    "y =ols_df_grouped['ma_china_donation_log']\n",
    "\n",
    "x = ols_df_grouped[['public','T__(-16.0, -10.0]','T__(-10.0, -4.0]','T__(-4.0, 2.0]','T__(2.0, 8.0]','T__(8.0, 14.0]']]\n",
    "\n",
    "x = sm.add_constant(x)\n",
    "\n",
    "x['int_1'] = x['public']*x['T__(2.0, 8.0]']\n",
    "x['int_2'] = x['public']*x['T__(8.0, 14.0]']\n",
    "\n",
    "# adding the constant term\n",
    " \n",
    "# performing the regression\n",
    "# and fitting the model\n",
    "result_3 = sm.OLS(y, x).fit()\n",
    " \n"
   ]
  },
  {
   "cell_type": "code",
   "execution_count": null,
   "id": "f6ea9cbb-30c8-42e0-9a8d-5fc9c1e4607b",
   "metadata": {
    "tags": []
   },
   "outputs": [],
   "source": []
  },
  {
   "cell_type": "code",
   "execution_count": null,
   "id": "39ea6ad9-7215-4910-a2a5-be73889865a4",
   "metadata": {
    "tags": []
   },
   "outputs": [],
   "source": [
    "\n",
    "# Public OLS regression\n",
    "\n",
    "import statsmodels.api as sm\n",
    "\n",
    "data_pub = ols_df_grouped[ols_df_grouped['public']==1]\n",
    "y =data_pub['ma_china_donation_log']\n",
    "x = data_pub[['T__(-16.0, -10.0]','T__(-10.0, -4.0]','T__(-4.0, 2.0]','T__(2.0, 8.0]','T__(8.0, 14.0]']]\n",
    "\n",
    "x = sm.add_constant(x)\n",
    "\n",
    "\n",
    "# adding the constant term\n",
    " \n",
    "# performing the regression\n",
    "# and fitting the model\n",
    "result_4 = sm.OLS(y, x).fit()\n",
    " \n"
   ]
  },
  {
   "cell_type": "code",
   "execution_count": null,
   "id": "8b7b18cc-0b81-44a2-9996-13b3bfda5a8c",
   "metadata": {
    "tags": []
   },
   "outputs": [],
   "source": [
    "\n",
    "# Private OLS regression\n",
    "\n",
    "import statsmodels.api as sm\n",
    "\n",
    "data_priv = ols_df_grouped[ols_df_grouped['public']==0]\n",
    "y =data_priv['ma_china_donation_log']\n",
    "x = data_priv[['T__(-16.0, -10.0]','T__(-10.0, -4.0]','T__(-4.0, 2.0]','T__(2.0, 8.0]','T__(8.0, 14.0]']]\n",
    "\n",
    "x = sm.add_constant(x)\n",
    "\n",
    "\n",
    "# adding the constant term\n",
    " \n",
    "# performing the regression\n",
    "# and fitting the model\n",
    "result_5 = sm.OLS(y, x).fit()\n",
    " \n",
    "\n",
    "\n",
    "\n"
   ]
  },
  {
   "cell_type": "code",
   "execution_count": null,
   "id": "d5407266-f597-41b6-a272-f1cf6b6d0c01",
   "metadata": {
    "tags": []
   },
   "outputs": [],
   "source": []
  },
  {
   "cell_type": "code",
   "execution_count": null,
   "id": "a6a7cc93-4d46-4249-a95b-da1119cba0d2",
   "metadata": {
    "tags": []
   },
   "outputs": [],
   "source": [
    "\n",
    "\n",
    "\n"
   ]
  },
  {
   "cell_type": "code",
   "execution_count": null,
   "id": "16145c41-366b-4d1d-b10d-682bb728f877",
   "metadata": {
    "tags": []
   },
   "outputs": [],
   "source": [
    "\n"
   ]
  },
  {
   "cell_type": "code",
   "execution_count": null,
   "id": "287d85ab-47b6-400e-a417-24bef5cd19cd",
   "metadata": {
    "tags": []
   },
   "outputs": [],
   "source": []
  },
  {
   "cell_type": "code",
   "execution_count": null,
   "id": "c1c249b7-ef67-4752-998e-a3699f23c7fa",
   "metadata": {
    "tags": []
   },
   "outputs": [],
   "source": [
    "# remove duplicate rows form cross tab\n",
    "\n",
    "import seaborn as sns\n",
    "\n",
    "\n",
    "ols_df_binary = normalized_df[['university_state','schoolname','state', 'year', 'public', 'federal_share', 'total_china_donation', 'timeline']]\n",
    "\n",
    "def timeline_sep(x):\n",
    "    if 0 < x:\n",
    "        return 't0_after'\n",
    "    elif x==0:\n",
    "        return 't0'\n",
    "    else:\n",
    "        return 't0_before'\n",
    "\n",
    "    \n",
    "ols_df_binary['timeline_sep'] = ols_df_binary['timeline'].apply(timeline_sep)\n",
    "\n",
    "\n",
    "\n",
    "\n",
    "ols_df_binary['ma_china_donation'] = ols_df_binary.groupby(['university_state','timeline_sep'])['total_china_donation'].transform('mean')\n",
    "\n",
    "\n",
    "\n",
    "ma_china_donation_log_bin = []\n",
    "\n",
    "for i in ols_df_binary['ma_china_donation']:\n",
    "    if i !=0:\n",
    "        ma_china_donation_log_bin.append(math.log(i))\n",
    "    else:\n",
    "        i_mod = i+1\n",
    "        ma_china_donation_log_bin.append(math.log(i_mod))\n",
    "        \n",
    "ols_df_binary['ma_china_donation_log'] = ma_china_donation_log_bin\n",
    "\n",
    "\n",
    "\n",
    "ols_df_binary = ols_df_binary[['university_state','schoolname','state', 'year',  'public', 'federal_share', 'ma_china_donation_log', 'timeline_sep']]\n",
    "\n",
    "# fix data grouping\n",
    "\n",
    "\n",
    "ols_df_binary = ols_df_binary[['university_state','schoolname','state', 'public', 'federal_share', 'ma_china_donation_log', 'timeline_sep']]\n",
    "\n",
    "plt.figure(figsize=[10, 5])\n",
    "\n",
    "\n",
    "ax = sns.boxplot(x=\"timeline_sep\",\n",
    "                y=\"ma_china_donation_log\",\n",
    "                data=ols_df_binary).set(xlabel =\"Timeline\", ylabel = 'Log of moving average China donation', title = \"Log average donations from China by before or after opening a Confucius Institute\")\n",
    "\n",
    "\n",
    "plt.savefig(\"ols_binary.png\") \n",
    "\n",
    "ols_df_binary = pd.get_dummies(ols_df_binary, columns=['timeline_sep'],\n",
    "               drop_first=True)\n",
    "\n",
    "\n"
   ]
  },
  {
   "cell_type": "code",
   "execution_count": null,
   "id": "bba1f79f-6c6a-4031-9ad1-0800ea11f5e1",
   "metadata": {
    "tags": []
   },
   "outputs": [],
   "source": [
    "# Binary OLS regression\n",
    "import statsmodels.api as sm\n",
    "\n",
    " \n",
    "y = ols_df_binary[['ma_china_donation_log']]\n",
    "\n",
    "x = ols_df_binary[['timeline_sep_t0_after']]\n",
    "\n",
    "\n",
    "x['t0_after'] = x[['timeline_sep_t0_after']]\n",
    "\n",
    "x = x['t0_after']\n",
    " \n",
    "# adding the constant term\n",
    "x = sm.add_constant(x)\n",
    " \n",
    "# performing the regression\n",
    "# and fitting the model\n",
    "result_2 = sm.OLS(y, x).fit()\n",
    " \n",
    "# printing the summary table\n",
    "\n",
    "stargazer = Stargazer([result_1, result_2, result_3, result_4, result_5])\n",
    "\n",
    "\n",
    "\n",
    "\n",
    "HTML(stargazer.render_latex())\n"
   ]
  },
  {
   "cell_type": "code",
   "execution_count": null,
   "id": "7f1a7ea9-7120-43ac-bca6-48d65c2ff5d2",
   "metadata": {
    "tags": []
   },
   "outputs": [],
   "source": [
    "# make dummy variable with timeline\n",
    "# pivot data wide with timeline variable\n",
    "\n",
    "ols_df = normalized_df[['university_state','schoolname','state', 'year', 'public', 'federal_share', 'total_china_donation', 'timeline']]\n",
    "\n",
    "ols_df = ols_df.rename(columns={\"timeline\": \"index\"})\n",
    "\n",
    "ols_df = (\n",
    "    pd.crosstab([ols_df[\"university_state\"], ols_df[\"schoolname\"], ols_df[\"state\"], ols_df[\"year\"], ols_df[\"public\"],  ols_df[\"total_china_donation\"]], ols_df[\"index\"], )\n",
    "    .gt(0)\n",
    "    .astype(int)\n",
    "    .reset_index()\n",
    ")\n",
    "\n",
    "\n",
    "\n",
    "\n",
    "\n",
    "ols_df.columns = [f'T_{i}' if i not in ['university_state','schoolname','state', 'year', 'public', 'federal_share', 'total_china_donation'] else f'{i}' for i in ols_df.columns]\n",
    "\n",
    "\n",
    "# try grouping by column values to make groups\n",
    "# calcualte moving average using grouped data\n",
    "# try making dummy variable by if a variable is in a certain range of years ie., data in T-22, T_-21, T-19 or etc"
   ]
  },
  {
   "cell_type": "code",
   "execution_count": null,
   "id": "2f582ceb-7cd9-42b5-a152-a6b95092a07b",
   "metadata": {
    "tags": []
   },
   "outputs": [],
   "source": []
  },
  {
   "cell_type": "code",
   "execution_count": null,
   "id": "b05eb9c7-f136-4568-b839-0080e7070757",
   "metadata": {
    "tags": []
   },
   "outputs": [],
   "source": [
    "\n",
    "\n",
    "#ols_df.columns[6:]\n"
   ]
  },
  {
   "cell_type": "code",
   "execution_count": null,
   "id": "a66f3457-00eb-4475-af95-8b1c2da2c4d2",
   "metadata": {
    "tags": []
   },
   "outputs": [],
   "source": [
    "# modify this OLS code\n",
    "\n",
    "import statsmodels.api as sm\n",
    "\n",
    " \n",
    "y = ols_df[['total_china_donation']]/1000000\n",
    "\n",
    "x = ols_df[['public', 'T_-22.0', 'T_-21.0', 'T_-20.0', 'T_-19.0', 'T_-18.0', 'T_-17.0',\n",
    "       'T_-16.0', 'T_-15.0', 'T_-14.0', 'T_-13.0', 'T_-12.0', 'T_-11.0',\n",
    "       'T_-10.0', 'T_-9.0', 'T_-8.0', 'T_-7.0', 'T_-6.0', 'T_-5.0', 'T_-4.0',\n",
    "       'T_-3.0', 'T_-2.0', 'T_-1.0', 'T_0.0', 'T_1.0', 'T_2.0', 'T_3.0',\n",
    "       'T_4.0', 'T_5.0', 'T_6.0', 'T_7.0', 'T_8.0', 'T_9.0', 'T_10.0',\n",
    "       'T_11.0', 'T_12.0', 'T_13.0', 'T_14.0']]\n",
    "\n",
    "\n",
    " \n",
    "# adding the constant term\n",
    "x = sm.add_constant(x)\n",
    " \n",
    "# performing the regression\n",
    "# and fitting the model\n",
    "result = sm.OLS(y, x).fit()\n",
    " \n",
    "# printing the summary table\n",
    "print(result.summary())"
   ]
  },
  {
   "cell_type": "code",
   "execution_count": null,
   "id": "9b78a6bf-116f-4a41-a0a3-ef35b7f43650",
   "metadata": {
    "tags": []
   },
   "outputs": [],
   "source": []
  },
  {
   "cell_type": "code",
   "execution_count": null,
   "id": "6c28135e-3678-43d2-8c1a-1d2132a94dae",
   "metadata": {
    "tags": []
   },
   "outputs": [],
   "source": []
  },
  {
   "cell_type": "code",
   "execution_count": null,
   "id": "4248d63b-954e-44ec-9386-5aefcd226a66",
   "metadata": {
    "tags": []
   },
   "outputs": [],
   "source": [
    "survival_df_clean = survival_df_clean.rename({'No_CI_years': 'survival_years'}, axis=1)\n",
    "\n",
    "\n",
    "\n",
    "survival_df_clean['status'] = survival_df_clean['status'].astype('bool')\n",
    "\n",
    "\n",
    "\n",
    "\n",
    "survival_df_clean\n",
    "\n",
    "%matplotlib inline\n",
    "import matplotlib.pyplot as plt\n",
    "\n",
    "import sksurv\n",
    "\n",
    "from sksurv.nonparametric import kaplan_meier_estimator\n",
    "\n",
    "time, survival_prob, conf_int = kaplan_meier_estimator(\n",
    "    survival_df_clean[\"status\"], survival_df_clean[\"survival_years\"], conf_type=\"log-log\"\n",
    ")\n",
    "plt.step(time, survival_prob, where=\"post\")\n",
    "plt.fill_between(time, conf_int[0], conf_int[1], alpha=0.25, step=\"post\")\n",
    "plt.ylim(0, 1)\n",
    "plt.ylabel(\"est. probability of not having a CI $\\hat{S}(t)$\")\n",
    "plt.xlabel(\"time in years $t$\")\n",
    "plt.title('Probability of not having a Confucius Institute over time')\n",
    "\n",
    "\n",
    "plt.savefig('CI_survival.png', bbox_inches='tight')\n",
    "\n"
   ]
  },
  {
   "cell_type": "code",
   "execution_count": null,
   "id": "aeb71163-1912-4168-abbf-d1b1747d5353",
   "metadata": {
    "tags": []
   },
   "outputs": [],
   "source": [
    "#survival_df_clean['survival_odds'] = survival_df_clean['survival_years']/max(survival_df_clean['survival_years'])\n",
    "survival_df_clean['CI_ever'] = survival_df_clean['CI_ever'].astype('bool')\n",
    "\n",
    "\n",
    "china_donations = survival_df_clean[survival_df_clean['cumulative_china_donations'].notna()]\n",
    "\n",
    "\n",
    "\n",
    "# try this https://stats.stackexchange.com/questions/496329/converting-survival-analysis-by-a-continuous-variable-to-categorical-so-as-to-fi\n",
    "CI_ever, survival_prob, conf_int = kaplan_meier_estimator(\n",
    "    china_donations[\"status\"], china_donations[\"cumulative_china_donations\"], conf_type=\"log-log\"\n",
    ")\n",
    "plt.step(CI_ever, survival_prob, where=\"post\")\n",
    "plt.fill_between(CI_ever, conf_int[0], conf_int[1], alpha=0.25, step=\"post\")\n",
    "plt.ylim(0, 1)\n",
    "plt.ylabel(\"est. probability of not having a CI $\\hat{S}(t)$\")\n",
    "plt.xlabel(\"Cumulative Chinese dollar donations recieved in 100,000,000's\")\n",
    "plt.title('Probability of not having a Confucius Institute compared to Chinese donations')\n",
    "\n",
    "plt.savefig('chinese_donation_survival.png', bbox_inches='tight')\n",
    "\n"
   ]
  },
  {
   "cell_type": "code",
   "execution_count": null,
   "id": "9c1eca62-0da2-4f50-a744-d66a2e6065b4",
   "metadata": {
    "tags": []
   },
   "outputs": [],
   "source": []
  },
  {
   "cell_type": "code",
   "execution_count": null,
   "id": "8a0bf88c-c84e-4266-9227-5c0b4abf9408",
   "metadata": {
    "tags": []
   },
   "outputs": [],
   "source": []
  },
  {
   "cell_type": "code",
   "execution_count": null,
   "id": "ace226d6-5a61-4914-82e1-4971939e94b4",
   "metadata": {
    "tags": []
   },
   "outputs": [],
   "source": [
    "# do this graph with Chinese donations on the X axis\n",
    "# See what happens with Chinese donations once Confucius Institutes close\n",
    "# Try clumping donation years together to deal with NaN values\n",
    "# Has CI funding dropped a lot after CI closed?\n",
    "# Has school relaunched Confucius Institutes with rebrand\n",
    "# Check Katherine data to see which CI's survived but in different form\n",
    "\n",
    "for public in (0, 1):\n",
    "    mask_treat = survival_df_clean[\"public\"] == public\n",
    "    time_treatment, survival_prob_treatment = kaplan_meier_estimator(\n",
    "        survival_df_clean[\"CI_ever\"][mask_treat],\n",
    "        survival_df_clean[\"survival_years\"][mask_treat])\n",
    "    \n",
    "    plt.step(time_treatment, survival_prob_treatment, where=\"post\",\n",
    "             label=\"Public = %s\" % public)\n",
    "\n",
    "plt.ylabel(\"est. probability of not having a CI $\\hat{S}(t)$\")\n",
    "plt.xlabel(\"time $t$\")\n",
    "plt.title('Survival rate of not having a Confucius Institute for public and private schools')\n",
    "plt.legend(loc=\"best\")\n",
    "\n",
    "plt.savefig('pub_vs_priv_survival.png', bbox_inches='tight')\n"
   ]
  },
  {
   "cell_type": "code",
   "execution_count": null,
   "id": "9ab12b2c-8574-429b-a0ec-59aa7cb1d0d3",
   "metadata": {
    "tags": []
   },
   "outputs": [],
   "source": [
    "# make new variable for cumulative China donations that stops once the University opens a Confucisus Institute\n",
    "# use this new variable as a time scale\n",
    "\n",
    "\n",
    "for public in (0, 1):\n",
    "    mask_treat = survival_df_clean[\"public\"] == public\n",
    "    time_treatment, survival_prob_treatment = kaplan_meier_estimator(\n",
    "        survival_df_clean[\"status\"][mask_treat],\n",
    "        survival_df_clean[\"cumulative_china_donations\"][mask_treat])\n",
    "    \n",
    "    plt.step(time_treatment, survival_prob_treatment, where=\"post\",\n",
    "             label=\"Public = %s\" % public)\n",
    "\n",
    "plt.ylabel(\"est. probability of survival $\\hat{S}(t)$\")\n",
    "plt.xlabel(\"Cumulative Chinese dollar donations in 100,000,000's\")\n",
    "plt.title('Survival rate of not having a Confucius Institute for public and private schools')\n",
    "plt.legend(loc=\"best\")\n",
    "\n",
    "plt.savefig('pub_vs_priv_money_survival.png', bbox_inches='tight')\n"
   ]
  },
  {
   "cell_type": "code",
   "execution_count": null,
   "id": "94a895a1-aae1-4a0a-b95b-f198327a1983",
   "metadata": {
    "tags": []
   },
   "outputs": [],
   "source": [
    "survival_df_clean['avg_china_donations']= survival_df_clean['all_year_china_donations']/(2020-1995)\n",
    "survival_df_clean['avg_china_donations'].hist()\n",
    "\n",
    "\n",
    "plt.title('Histogram of yearly donations')\n",
    "\n",
    "plt.savefig('donation_histogram.png', bbox_inches='tight')\n"
   ]
  },
  {
   "cell_type": "code",
   "execution_count": null,
   "id": "5e3e64f9-499f-4540-a198-6f159b912270",
   "metadata": {
    "tags": []
   },
   "outputs": [],
   "source": [
    "# make survival grah with 0 being cutoff for Chinese donations\n",
    "# make binary variable for china donation\n",
    "\n",
    "survival_df_clean['china_ever'] = np.where(survival_df_clean['avg_china_donations'] > 0, 1, 0)\n",
    "\n",
    "\n",
    "for china_ever in (0, 1):\n",
    "    mask_treat = survival_df_clean[\"china_ever\"] == china_ever\n",
    "    time_treatment, survival_prob_treatment = kaplan_meier_estimator(\n",
    "        survival_df_clean[\"status\"][mask_treat],\n",
    "        survival_df_clean[\"survival_years\"][mask_treat])\n",
    "    \n",
    "    plt.step(time_treatment, survival_prob_treatment, where=\"post\",\n",
    "             label=\"china_ever = %s\" % china_ever)\n",
    "\n",
    "plt.ylabel(\"est. probability of not having a CI $\\hat{S}(t)$\")\n",
    "plt.xlabel(\"time $t$\")\n",
    "plt.title('Probability of not having a Confucius Institute by having ever taken a donation from China')\n",
    "plt.legend(loc=\"best\")\n",
    "\n",
    "plt.savefig('china_donation_survival.png', bbox_inches='tight')\n",
    "\n"
   ]
  },
  {
   "cell_type": "code",
   "execution_count": null,
   "id": "82c14ff2-b931-4047-bcb5-9553dce25c4e",
   "metadata": {
    "tags": []
   },
   "outputs": [],
   "source": [
    "# make graph where you groupby CI ever and not CI\n",
    "\n",
    "# find mean closing year\n",
    "# see how much donations change past mean closing year\n",
    "\n",
    "\n",
    "\n",
    "\n",
    "master_df_enroll['CI_survival'] = master_df_enroll['CI_open'].diff()\n",
    "\n",
    "master_df_enroll[master_df_enroll['schoolname']=='Arizona State University']\n",
    "\n",
    "\n",
    "\n",
    "CI_close_year = master_df_clean[master_df_clean['CI_survival']==-1]\n",
    "\n",
    "CI_close_year['CI_close_year']= 1\n",
    "\n",
    "master_df_enroll= master_df_enroll.merge(CI_close_year, how = 'left')\n",
    "\n",
    "master_df_enroll['CI_close_year']=  master_df_enroll['CI_close_year'].fillna(0)\n",
    "\n",
    "# group by close year and find mean close year\n",
    "# check how average donations change before and after mean close year\n"
   ]
  },
  {
   "cell_type": "code",
   "execution_count": null,
   "id": "a95bd7ba-94f4-42bd-8ef9-61435ec9bf74",
   "metadata": {
    "tags": []
   },
   "outputs": [],
   "source": [
    "from sksurv.linear_model import CoxPHSurvivalAnalysis\n",
    "from sksurv.preprocessing import OneHotEncoder\n",
    "from lifelines import CoxPHFitter\n",
    "\n",
    "\n",
    "#split data into data_x and data_y \n",
    "\n",
    "survival_model = survival_df_clean.dropna()\n",
    "\n",
    "\n",
    "\n",
    "# try binary version of donation vs non China donation for CI survival\n",
    "# Look at overall distribution of funding and draw line for significant vs non-sihgnficant funding\n",
    "# for every metric (average annual Chinese donation), check the distirbtuion with a histogram for Chinese donations\n",
    "# use bottom point of histogram to see the cutoff to make two distinctive\n",
    "# also figure out how to interpret Cox PH regression\n",
    "# check distribution of public vs private universities in data set\n",
    "# look up some literature on confucius institues in public vs private\n",
    "# look at literature on Chinese influence in public vs private universties\n",
    "# look at NAS studies on Confucius Institue work\n",
    "\n",
    "\n"
   ]
  },
  {
   "cell_type": "code",
   "execution_count": null,
   "id": "67358424-cd00-4087-8e6f-a19ea6772b98",
   "metadata": {
    "tags": []
   },
   "outputs": [],
   "source": [
    "survival_model_public = survival_df_clean[survival_df_clean['public'].notna()]\n",
    "\n",
    "cph = CoxPHFitter()\n",
    "survival_years = cph.fit(survival_model_public, duration_col = 'survival_years', event_col = 'status', formula= \"public + all_year_china_donations + all_year_foreign_donations\")\n",
    "cph.print_summary()\n",
    "\n",
    "\n",
    "print('Being a public university increases the hazard for getting a CI by a factor of 4.42, or ',(4.42-1)*100,'%' )\n",
    "\n"
   ]
  },
  {
   "cell_type": "code",
   "execution_count": null,
   "id": "256c5c5e-5f63-49a4-af5c-63f67ea54741",
   "metadata": {
    "tags": []
   },
   "outputs": [],
   "source": [
    "# install stargazer\n",
    "from stargazer.stargazer import Stargazer\n",
    "\n",
    "cph = CoxPHFitter()\n",
    "survival_years = cph.fit(survival_model, duration_col = 'survival_years', event_col = 'status', formula= \"public + all_year_federal10 + all_year_tot_rev_wo_auxother_sum+all_year_china_donations+all_year_foreign_donations\")\n",
    "cph.print_summary()\n",
    "\n",
    "\n",
    "print('Being a public university increases the hazard for getting a CI by a factor of 4.19, or ',(4.19-1)*100,'%' )\n",
    "\n",
    "\n",
    "\n"
   ]
  },
  {
   "cell_type": "code",
   "execution_count": null,
   "id": "32cc7854-e8f7-42e5-b9de-2ba4e149ba2b",
   "metadata": {
    "tags": []
   },
   "outputs": [],
   "source": [
    "\n",
    "cph = CoxPHFitter()\n",
    "donation_cph = cph.fit(survival_model, duration_col = 'cumulative_china_donations', event_col = 'status', formula= \"public + all_year_federal10 + all_year_tot_rev_wo_auxother_sum+all_year_foreign_donations\")\n",
    "donation_cph.print_summary()\n",
    "\n",
    "\n",
    "print('Being a public university increases the hazard for getting a CI as Chinese donation money increases by a factor of 3.68, or ',(3.68-1)*100,'%' )"
   ]
  },
  {
   "cell_type": "code",
   "execution_count": null,
   "id": "9042ff7e-6b83-4bac-9598-f0d6f84274de",
   "metadata": {
    "tags": []
   },
   "outputs": [],
   "source": [
    "pie_df = survival_df_clean.groupby('public').count().reset_index()\n",
    "\n",
    "pie_df = pie_df[['public','university_state']]\n",
    "\n",
    "\n",
    "pie_df = pie_df.rename(columns={\"university_state\": \"Number of Schools\"})\n",
    "\n",
    "\n",
    "\n",
    "pie_df['school_type'] = pie_df['public'].map({0: 'private', 1: 'public'})\n",
    "\n",
    "\n",
    "labels = pie_df['school_type']\n",
    "sizes = pie_df['Number of Schools']\n",
    "\n",
    "\n",
    "\n",
    "\n",
    "fig, ax = plt.subplots()\n",
    "ax.pie(sizes, labels=labels, autopct='%1.1f%%', pctdistance=1.25, labeldistance=.6)\n",
    "\n",
    "plt.title('Share of Public and Private Universities')\n",
    "\n",
    "fig.figure.savefig('public_private_pie.png', bbox_inches='tight')\n",
    "\n",
    "pie_df\n"
   ]
  },
  {
   "cell_type": "code",
   "execution_count": null,
   "id": "895e537b-cfca-4d8d-abae-c1dcb3aa6dfc",
   "metadata": {},
   "outputs": [],
   "source": [
    "CI_universities = survival_df_clean[survival_df_clean['CI_ever']==1]\n",
    "\n",
    "\n",
    "pie_df = CI_universities.groupby('public').count().reset_index()\n",
    "\n",
    "pie_df = pie_df[['public','university_state']]\n",
    "\n",
    "\n",
    "pie_df = pie_df.rename(columns={\"university_state\": \"Number of Schools\"})\n",
    "\n",
    "\n",
    "\n",
    "pie_df['school_type'] = pie_df['public'].map({0: 'private', 1: 'public'})\n",
    "\n",
    "\n",
    "labels = pie_df['school_type']\n",
    "sizes = pie_df['Number of Schools']\n",
    "\n",
    "\n",
    "\n",
    "\n",
    "fig, ax = plt.subplots()\n",
    "ax.pie(sizes, labels=labels, autopct='%1.1f%%', pctdistance=1.25, labeldistance=.6)\n",
    "\n",
    "plt.title('Share of Public and Private Universities that ever had a CI')\n",
    "\n",
    "fig.figure.savefig('public_private_CI_pie.png', bbox_inches='tight')\n",
    "\n",
    "pie_df"
   ]
  },
  {
   "cell_type": "code",
   "execution_count": null,
   "id": "ef55c0af-dbe1-4fc2-a84f-db9d2a6d4aa5",
   "metadata": {
    "tags": []
   },
   "outputs": [],
   "source": []
  },
  {
   "cell_type": "code",
   "execution_count": null,
   "id": "22b2bc96-b4c9-4f71-9b45-0c29025f29e7",
   "metadata": {
    "tags": []
   },
   "outputs": [],
   "source": [
    "No_CI_China = survival_df_clean.loc[(survival_df_clean['CI_ever'] == False) & (survival_df_clean['cumulative_china_donations'] >0)]\n",
    "\n",
    "\n",
    "\n",
    "\n",
    "pie_df = No_CI_China.groupby('public').count().reset_index()\n",
    "\n",
    "pie_df = pie_df[['public','university_state']]\n",
    "\n",
    "\n",
    "pie_df = pie_df.rename(columns={\"university_state\": \"Number of Schools\"})\n",
    "\n",
    "\n",
    "\n",
    "pie_df['school_type'] = pie_df['public'].map({0: 'private', 1: 'public'})\n",
    "\n",
    "\n",
    "labels = pie_df['school_type']\n",
    "sizes = pie_df['Number of Schools']\n",
    "\n",
    "\n",
    "\n",
    "\n",
    "fig, ax = plt.subplots()\n",
    "ax.pie(sizes, labels=labels, autopct='%1.1f%%', pctdistance=1.25, labeldistance=.6)\n",
    "\n",
    "plt.title('Share of Public and Private Universities that never had a CI but took China money')\n",
    "\n",
    "fig.figure.savefig('public_private_No_CI_China_pie.png', bbox_inches='tight')\n",
    "\n",
    "pie_df\n",
    "\n"
   ]
  },
  {
   "cell_type": "code",
   "execution_count": null,
   "id": "62b6d911-ad51-4f56-ad28-627116a7ca32",
   "metadata": {
    "tags": []
   },
   "outputs": [],
   "source": [
    "No_CI_China['university_state'].unique()"
   ]
  },
  {
   "cell_type": "code",
   "execution_count": null,
   "id": "a201a619-89ae-46a1-84d1-47850e6ce7d4",
   "metadata": {
    "tags": []
   },
   "outputs": [],
   "source": []
  },
  {
   "cell_type": "code",
   "execution_count": null,
   "id": "fc2f1775-d9b8-47b0-a41e-6c0bfb39740a",
   "metadata": {
    "tags": []
   },
   "outputs": [],
   "source": []
  },
  {
   "cell_type": "code",
   "execution_count": null,
   "id": "2908b54e-10c3-42a5-8cb8-fba8f3acc60b",
   "metadata": {
    "tags": []
   },
   "outputs": [],
   "source": [
    "pie_df"
   ]
  },
  {
   "cell_type": "code",
   "execution_count": null,
   "id": "35c72a50-f663-46b1-909a-3a124366be8f",
   "metadata": {
    "tags": []
   },
   "outputs": [],
   "source": []
  },
  {
   "cell_type": "code",
   "execution_count": null,
   "id": "080e3a8d-d002-4134-b61a-c81cba2e9eb9",
   "metadata": {
    "tags": []
   },
   "outputs": [],
   "source": [
    "survival_df_clean"
   ]
  },
  {
   "cell_type": "code",
   "execution_count": null,
   "id": "d8ead608-bfa7-4bcb-aa0d-c49a9837d8ab",
   "metadata": {
    "tags": []
   },
   "outputs": [],
   "source": [
    "\n",
    "summary_stats = np.round(master_df_clean.describe(), 2).T[['count','mean', 'std', 'min', 'max']]\n",
    "\n",
    "summary_stats_CI = np.round(master_df_clean[master_df_clean['CI_ever'] == 1].describe(), 2).T[['count','mean', 'std', 'min', 'max']]\n",
    "\n",
    "\n",
    "summary_stats_no_CI = np.round(master_df_clean[master_df_clean['CI_ever'] == 0].describe(), 2).T[['count','mean', 'std', 'min', 'max']]\n",
    "\n",
    "\n",
    "CI_survival = survival_df_clean.loc[(survival_df_clean['CI_ever'] == True)]\n",
    "    \n",
    "    \n",
    "\n",
    "summary_stats_survival = np.round(survival_df_clean.describe(), 2).T[['count','mean', 'std', 'min', 'max']]\n",
    "\n",
    "CI_survival_summary = np.round(CI_survival.describe(), 2).T[['count','mean', 'std', 'min', 'max']]\n",
    "\n",
    "\n",
    "No_CI_China_summary = np.round(No_CI_China.describe(), 2).T[['count','mean', 'std', 'min', 'max']]\n",
    "\n",
    "\n",
    "\n",
    "descriptive_stats_list= [summary_stats, summary_stats_CI, summary_stats_no_CI]\n",
    "\n",
    "\n",
    "descriptive_stats_names=  ['summary_stats', 'summary_stats_CI', 'summary_stats_no_CI']\n",
    "\n",
    "import matplotlib.pyplot as plt\n",
    "from pandas.plotting import table\n",
    "\n",
    "\n",
    "\n",
    "for i, j in zip(descriptive_stats_list, descriptive_stats_names):\n",
    "    plot = plt.subplot(111, frame_on=False)\n",
    "\n",
    "\n",
    "    #remove axis\n",
    "    plot.xaxis.set_visible(False) \n",
    "    plot.yaxis.set_visible(False) \n",
    "\n",
    "#create the table plot and position it in the upper left corner\n",
    "    table(plot, i, loc='upper right')\n",
    "    plt.savefig(j +'.png', bbox_inches='tight')\n"
   ]
  },
  {
   "cell_type": "code",
   "execution_count": null,
   "id": "66ba6687-dd52-4b3c-866f-a52855fd5c9b",
   "metadata": {
    "tags": []
   },
   "outputs": [],
   "source": [
    "No_CI_survival = survival_df_clean.loc[(survival_df_clean['CI_ever'] == False)]\n",
    "No_CI_survival_summary = np.round(No_CI_survival.describe(), 2).T[['count','mean', 'std', 'min', 'max']]\n"
   ]
  },
  {
   "cell_type": "code",
   "execution_count": null,
   "id": "47a0649f-81f1-42d6-b325-36893f0cfd22",
   "metadata": {
    "tags": []
   },
   "outputs": [],
   "source": [
    "\n",
    "\n",
    "descriptive_survival_list= [No_CI_China_summary, summary_stats_survival, CI_survival_summary, No_CI_survival_summary]\n",
    "\n",
    "\n",
    "descriptive_survival_names=  ['No_CI_China_summary', 'summary_stats_survival', 'CI_survival_summary', 'No_CI_survival_summary']\n",
    "\n",
    "import matplotlib.pyplot as plt\n",
    "from pandas.plotting import table\n",
    "\n",
    "\n",
    "\n",
    "for i, j in zip(descriptive_survival_list, descriptive_survival_names):\n",
    "    plot = plt.subplot(111, frame_on=False)\n",
    "\n",
    "\n",
    "    #remove axis\n",
    "    plot.xaxis.set_visible(False) \n",
    "    plot.yaxis.set_visible(False) \n",
    "\n",
    "#create the table plot and position it in the upper left corner\n",
    "    table(plot, i, loc='upper right')\n",
    "    plt.savefig(j +'.png', bbox_inches='tight')"
   ]
  },
  {
   "cell_type": "code",
   "execution_count": null,
   "id": "80f4c027-3aee-4fb2-aec2-3d891bb11dcd",
   "metadata": {
    "tags": []
   },
   "outputs": [],
   "source": [
    "No_CI_survival_summary['CI_ever'].unique()"
   ]
  },
  {
   "cell_type": "code",
   "execution_count": null,
   "id": "0d262d80-edaa-4627-bc76-066c2b154c5b",
   "metadata": {
    "tags": []
   },
   "outputs": [],
   "source": [
    "# Graph output settings\n",
    "import matplotlib.pyplot as plt\n",
    "\n",
    "\n",
    "\n",
    "\n",
    "# put school name here\n",
    "schoolname =\"Arizona State University\"\n",
    "\n",
    "# put state code here\n",
    "\n",
    "st = \"AZ\"\n",
    "\n",
    "school_for_analysis = schoolname+'_'+st\n",
    "\n",
    "\n",
    "\n",
    "\n",
    "year = 2006\n",
    "\n",
    "\n",
    "master_df_clean[master_df_clean['schoolname']=='Arizona State University']\n"
   ]
  },
  {
   "cell_type": "code",
   "execution_count": null,
   "id": "0a535822-ddfe-41db-882f-bc8042c24392",
   "metadata": {
    "tags": []
   },
   "outputs": [],
   "source": [
    "example_graph = master_df_clean.groupby(['state'])['china_donation_over_federal'].mean().reset_index()\n",
    "\n",
    "example_graph = example_graph.sort_values('china_donation_over_federal',ascending = False).head(10)\n",
    "\n",
    "# filter this graph by top 5 states\n",
    "x=example_graph['state']\n",
    "\n",
    "y = example_graph['china_donation_over_federal']\n",
    "\n",
    "\n",
    "plt.title('Top ten states that have the highest mean proportion of Chinese donations compared to federal funds')\n",
    "\n",
    "\n",
    "plt.xticks(rotation=0, )\n",
    "\n",
    "plt.tick_params(axis='x', which='major', labelsize=7)\n",
    "\n",
    "\n",
    "example_donation_plot = sns.barplot(x= x, y= y)\n",
    "\n",
    "\n",
    "example_donation_plot.figure.savefig('Chinese_donation_reliance_by_state.png', bbox_inches='tight')\n",
    "\n",
    "\n",
    "# covert this data into a bar graph"
   ]
  },
  {
   "cell_type": "markdown",
   "id": "ce5f1e30-1e02-4809-9c6f-a415e1fe9bf6",
   "metadata": {
    "tags": []
   },
   "source": [
    "master_df_clean[master_df_clean['total_foreign_donation']==0]"
   ]
  },
  {
   "cell_type": "code",
   "execution_count": null,
   "id": "25308032-e9cb-421d-9f80-605618f8efca",
   "metadata": {
    "tags": []
   },
   "outputs": [],
   "source": [
    "example_graph = master_df_clean.groupby(['public', 'year'])['china_donation_over_federal'].mean().reset_index()\n",
    "\n",
    "x=example_graph['year']\n",
    "\n",
    "y = example_graph['china_donation_over_federal']\n",
    "c =example_graph['public']\n",
    "\n",
    "plt.title('Time series for public vs private proportion of Chinese donations to federal funds')\n",
    "\n",
    "\n",
    "plt.xticks(rotation=45)\n",
    "\n",
    "\n",
    "example_donation_plot = sns.barplot(x= x, y= y, hue= c)\n",
    "\n",
    "\n",
    "example_donation_plot.figure.savefig('Chinese_donation_reliance.png', bbox_inches='tight')\n",
    "\n",
    "\n",
    "# covert this data into a bar graph"
   ]
  },
  {
   "cell_type": "code",
   "execution_count": null,
   "id": "dea61ca8-2f2c-48a7-91e4-9fd0433d6ec6",
   "metadata": {
    "tags": []
   },
   "outputs": [],
   "source": [
    "china_donation_2016 = master_df_clean[(master_df_clean['year']==2016)&(master_df_clean['public']==0)&(master_df_clean['china_donation'].notna())]\n",
    "\n",
    "china_donation_2016.sort_values(by=['china_donation_over_federal'], ascending=False).head(10)"
   ]
  },
  {
   "cell_type": "code",
   "execution_count": null,
   "id": "e2e11f31-d36a-4c32-bec1-e9e1b93f64e1",
   "metadata": {
    "tags": []
   },
   "outputs": [],
   "source": [
    "# fix this pie chart!!\n",
    "example_graph = master_df_clean.groupby(['public', 'CI_ever']).size().reset_index()\n",
    "\n",
    "\n",
    "example_graph = example_graph.rename(columns = {0: 'count'})\n",
    "\n",
    "x= example_graph['public']\n",
    "\n",
    "y = example_graph['count']\n",
    "c =example_graph['CI_ever']\n",
    "\n",
    "CI_pub_plot = sns.barplot(x= x, y= y, hue= c)\n",
    "\n",
    "plt.title('Number of public and private Universities that have ever had a CI')\n",
    "\n",
    "\n",
    "CI_pub_plot.figure.savefig('CI_pub_plot.png', bbox_inches='tight')\n",
    "\n"
   ]
  },
  {
   "cell_type": "code",
   "execution_count": null,
   "id": "20485720-ba83-4e4c-b23f-3f07d5ca4c26",
   "metadata": {
    "tags": []
   },
   "outputs": [],
   "source": []
  },
  {
   "cell_type": "code",
   "execution_count": null,
   "id": "547bfef5-5c6d-46a9-907a-992951847436",
   "metadata": {
    "tags": []
   },
   "outputs": [],
   "source": [
    "\n",
    "\n",
    "example_graph = master_df_clean[master_df_clean['university_state'].isin([school_for_analysis])]\n",
    "\n",
    "\n",
    "x=example_graph['year']\n",
    "\n",
    "y = example_graph['total_china_donation']\n",
    "c =example_graph['CI_open']\n",
    "\n",
    "plt.title('Time series for '+schoolname+' CI open years and Chinese donations')\n",
    "\n",
    "\n",
    "plt.xticks(rotation=45)\n",
    "\n",
    "\n",
    "example_donation_plot = sns.barplot(x= x, y= y, hue= c)\n",
    "\n",
    "\n",
    "example_donation_plot.figure.savefig('example_donation_plot.png', bbox_inches='tight')\n",
    "\n"
   ]
  },
  {
   "cell_type": "code",
   "execution_count": null,
   "id": "4c431885-bde2-4597-895d-f45efd6ac2d8",
   "metadata": {
    "tags": []
   },
   "outputs": [],
   "source": [
    "import matplotlib.pyplot as plt\n",
    "\n",
    "example_graph = master_df_clean[master_df_clean['university_state'].isin([school_for_analysis])]\n",
    "\n",
    "\n",
    "x=example_graph['year']\n",
    "\n",
    "y = example_graph['china_donation_over_federal']\n",
    "c =example_graph['CI_open']\n",
    "\n",
    "plt.title('Time series for '+schoolname+ ' CI open years and ratio of Chinese donations to Federal Funds')\n",
    "\n",
    "\n",
    "plt.xticks(rotation=45)\n",
    "\n",
    "\n",
    "example_donation_plot = sns.barplot(x= x, y= y, hue= c)\n",
    "\n",
    "example_donation_plot.figure.savefig('school_ratio_federal_funds.png', bbox_inches='tight')\n",
    "\n"
   ]
  },
  {
   "cell_type": "code",
   "execution_count": null,
   "id": "c6ec1d38-7bc2-4b23-9e5b-ee39e53b4657",
   "metadata": {
    "tags": []
   },
   "outputs": [],
   "source": [
    "len(master_df_clean[master_df_clean['r']=='R']['university_state'].unique())"
   ]
  },
  {
   "cell_type": "code",
   "execution_count": null,
   "id": "3fcdab3a-3d9b-4b52-87b4-2b5cb1facf91",
   "metadata": {
    "tags": []
   },
   "outputs": [],
   "source": [
    "example_replacement =  master_df_clean[master_df_clean['r']=='R']['university_state'].unique()[21]\n",
    "\n",
    "\n",
    "\n",
    "\n",
    "example_graph = master_df_clean[master_df_clean['university_state'].isin([example_replacement])]\n",
    "\n",
    "replacement_name  = example_graph['schoolname'].unique()[0]\n",
    "\n",
    "\n",
    "x=example_graph['year']\n",
    "\n",
    "y = example_graph['total_china_donation']\n",
    "c =example_graph['CI_close_year']\n",
    "schools = example_graph['schoolname']\n",
    "\n",
    "plt.title('Time series for '+replacement_name+ ' total Chinese donations with a mark when the CI closed')\n",
    "\n",
    "\n",
    "plt.xticks(rotation=45)\n",
    "\n",
    "example_donation_plot = sns.lineplot(x= x, y= y)\n",
    "\n",
    "\n",
    "example_donation_plot = sns.scatterplot(x= x, y= y, hue= c, s = 100)\n",
    "\n",
    "\n",
    "example_donation_plot.figure.savefig('CI_replaced_graph.png', bbox_inches='tight')\n",
    "\n",
    "\n"
   ]
  },
  {
   "cell_type": "code",
   "execution_count": null,
   "id": "0cbb0be9-4df1-4f8e-8839-4bf72680fb8c",
   "metadata": {
    "tags": []
   },
   "outputs": [],
   "source": [
    "\n",
    "\n",
    "example_graph = master_df_clean[master_df_clean['university_state'].isin([school_for_analysis])]\n",
    "\n",
    "\n",
    "x=example_graph['year']\n",
    "\n",
    "y = example_graph['total_china_donation']\n",
    "c =example_graph['CI_close_year']\n",
    "schools = example_graph['schoolname']\n",
    "\n",
    "plt.title('Time series for '+schoolname+ ' total Chinese donations with a mark when the CI closed')\n",
    "\n",
    "\n",
    "plt.xticks(rotation=45)\n",
    "\n",
    "example_donation_plot = sns.lineplot(x= x, y= y, hue = schools) \n",
    "\n",
    "\n",
    "example_donation_plot = sns.scatterplot(x= x, y= y, hue= c, s = 100)\n",
    "\n",
    "\n",
    "example_donation_plot.figure.savefig('CI_closed_graph.png', bbox_inches='tight') \n",
    "\n",
    "\n"
   ]
  },
  {
   "cell_type": "code",
   "execution_count": null,
   "id": "b2b95911-bc27-4b8c-93ee-9824ee644c37",
   "metadata": {
    "tags": []
   },
   "outputs": [],
   "source": [
    "example_graph = master_df_clean[master_df_clean['university_state'].isin([school_for_analysis])]\n",
    "\n",
    " \n",
    "x=example_graph['year']\n",
    "\n",
    "y = example_graph['CI_open']\n",
    "c =example_graph['china_donation']\n",
    "\n",
    "plt.title('Time series for '+schoolname+ ' CI open years and if they recieved Chinese donations that year')\n",
    "\n",
    "\n",
    "\n",
    "plt.xticks(rotation=45)\n",
    "\n",
    "\n",
    "\n",
    "\n",
    "example_CI_binary_plot = sns.scatterplot(x= x, y= y, hue= c)\n",
    "\n",
    "\n",
    "example_CI_binary_plot.figure.savefig('example_CI_binary_plot.png', bbox_inches='tight')\n"
   ]
  },
  {
   "cell_type": "code",
   "execution_count": null,
   "id": "4dc7da2b-da16-4dc9-bbbf-2a6f70387c27",
   "metadata": {
    "tags": []
   },
   "outputs": [],
   "source": [
    "master_df_clean[master_df_clean['schoolname']==\"Alabama A&M University\"]\n",
    "\n",
    "df[df['schoolname']==\"Harvard University\"]\n",
    "\n",
    "\n",
    "\n",
    "\n",
    "df[df['schoolname']==\"Harvard University\"]\n",
    "\n",
    "master_df_clean[master_df_clean['schoolname']==\"Harvard University\"]\n",
    "\n",
    "\n",
    "df[(df['schoolname']==\"Arizona State University\") & (df['receipt_year']==1996)]\n",
    "\n",
    " \n",
    "\n",
    "df[(df['schoolname']==\"Arizona State University\")]\n",
    "\n",
    "master_df_clean[master_df_clean['schoolname']==\"Stanford University\"]\n",
    "\n",
    "\n",
    "master_df_clean[master_df_clean['schoolname']== \"Harvard University\"]"
   ]
  },
  {
   "cell_type": "code",
   "execution_count": null,
   "id": "717cc124-e660-4f0b-8115-2f352cb108b4",
   "metadata": {
    "tags": []
   },
   "outputs": [],
   "source": [
    "survival_df_clean.to_stata('CI_survival_data_cleaned.dta')  \n",
    "\n",
    "\n",
    "master_df_clean.to_stata('school_year_data_cleaned.dta')  \n"
   ]
  },
  {
   "cell_type": "code",
   "execution_count": null,
   "id": "3f573b57-60c6-4fba-8acd-0ea4348ead72",
   "metadata": {},
   "outputs": [],
   "source": [
    "master_df_clean.dtypes\n",
    "\n"
   ]
  },
  {
   "cell_type": "code",
   "execution_count": null,
   "id": "f971a026-665c-448e-93f3-17ae049d9aa2",
   "metadata": {},
   "outputs": [],
   "source": []
  },
  {
   "cell_type": "code",
   "execution_count": null,
   "id": "5ff81281-584b-4451-8947-aa375b4bffcd",
   "metadata": {},
   "outputs": [],
   "source": []
  },
  {
   "cell_type": "code",
   "execution_count": null,
   "id": "41ad3f8d-db2d-4ee4-9f56-887cffc767c9",
   "metadata": {},
   "outputs": [],
   "source": []
  },
  {
   "cell_type": "code",
   "execution_count": null,
   "id": "2194d749-78bb-405b-9b81-2a05bc70b2e0",
   "metadata": {},
   "outputs": [],
   "source": []
  },
  {
   "cell_type": "code",
   "execution_count": null,
   "id": "bfc488f9-2ac6-4568-98ae-351634cce768",
   "metadata": {},
   "outputs": [],
   "source": []
  },
  {
   "cell_type": "code",
   "execution_count": null,
   "id": "0a8db8de-9af9-4e77-b3dc-5e6b23f1c777",
   "metadata": {},
   "outputs": [],
   "source": []
  },
  {
   "cell_type": "code",
   "execution_count": null,
   "id": "92cb31dd-8b35-4172-8b6e-7efb5f76a661",
   "metadata": {},
   "outputs": [],
   "source": []
  },
  {
   "cell_type": "code",
   "execution_count": null,
   "id": "a7d73c2d-1462-4d5e-954a-3ca1f10559a8",
   "metadata": {},
   "outputs": [],
   "source": []
  },
  {
   "cell_type": "code",
   "execution_count": null,
   "id": "46febe87-7e05-4347-822a-91c960efea97",
   "metadata": {},
   "outputs": [],
   "source": []
  },
  {
   "cell_type": "code",
   "execution_count": null,
   "id": "53cd2f2c-89a0-48d5-9f8c-26e3f306c25a",
   "metadata": {},
   "outputs": [],
   "source": []
  },
  {
   "cell_type": "code",
   "execution_count": null,
   "id": "21dc8ba5-a981-4cc1-937a-5d3000329808",
   "metadata": {},
   "outputs": [],
   "source": []
  },
  {
   "cell_type": "code",
   "execution_count": null,
   "id": "7fb27c52-60a3-4789-85a0-253ab55bc927",
   "metadata": {},
   "outputs": [],
   "source": []
  },
  {
   "cell_type": "code",
   "execution_count": null,
   "id": "4def4b38-e133-49e2-99bb-546e46bf1230",
   "metadata": {},
   "outputs": [],
   "source": []
  },
  {
   "cell_type": "code",
   "execution_count": null,
   "id": "8aea1cf3-5ca6-470c-b205-c973d25834de",
   "metadata": {},
   "outputs": [],
   "source": []
  },
  {
   "cell_type": "code",
   "execution_count": null,
   "id": "0a4a44b9-0024-4af5-87e4-c89b0414cc20",
   "metadata": {},
   "outputs": [],
   "source": []
  },
  {
   "cell_type": "code",
   "execution_count": null,
   "id": "a2f37e77-1184-49d6-9b91-4550b276608d",
   "metadata": {},
   "outputs": [],
   "source": []
  },
  {
   "cell_type": "code",
   "execution_count": null,
   "id": "7cb2083d-ea03-4f46-801c-6e9b253a1af2",
   "metadata": {},
   "outputs": [],
   "source": []
  },
  {
   "cell_type": "code",
   "execution_count": null,
   "id": "ad2497e1-d27f-4c63-9542-ad01b261000c",
   "metadata": {},
   "outputs": [],
   "source": []
  },
  {
   "cell_type": "code",
   "execution_count": null,
   "id": "87ca2bf6-6d66-40ae-ac19-32c1de4f0581",
   "metadata": {},
   "outputs": [],
   "source": []
  },
  {
   "cell_type": "code",
   "execution_count": null,
   "id": "565c48b9-bb8f-4765-a410-31e84e6cdc51",
   "metadata": {},
   "outputs": [],
   "source": []
  },
  {
   "cell_type": "code",
   "execution_count": null,
   "id": "c8130233-978b-4fb6-8c17-b21ac7ab3d52",
   "metadata": {},
   "outputs": [],
   "source": []
  }
 ],
 "metadata": {
  "kernelspec": {
   "display_name": "Python 3 (ipykernel)",
   "language": "python",
   "name": "python3"
  },
  "language_info": {
   "codemirror_mode": {
    "name": "ipython",
    "version": 3
   },
   "file_extension": ".py",
   "mimetype": "text/x-python",
   "name": "python",
   "nbconvert_exporter": "python",
   "pygments_lexer": "ipython3",
   "version": "3.9.18"
  }
 },
 "nbformat": 4,
 "nbformat_minor": 5
}
